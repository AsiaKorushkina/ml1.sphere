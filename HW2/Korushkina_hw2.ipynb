{
 "cells": [
  {
   "cell_type": "markdown",
   "metadata": {},
   "source": [
    "# Алгоритмы интеллектуальной обработки больших объемов данных\n",
    "## Домашнее задание №3: Линейные модели\n"
   ]
  },
  {
   "cell_type": "markdown",
   "metadata": {},
   "source": [
    "###### <hr\\>\n",
    "**Общая информация**\n",
    "\n",
    "**Срок сдачи:** 5 ноября 2019, 06:00 <br\\>\n",
    "**Штраф за опоздание:** -2 балла после 06:00 5 ноября, -4 балла после 06:00 12 ноября, -6 баллов после 06:00 19 ноября  -8 баллов после 06:00 26 ноября.\n",
    "\n",
    "При отправлении ДЗ указывайте фамилию в названии файла<br\\>\n",
    "\n",
    "Используйте данный Ipython Notebook при оформлении домашнего задания.\n",
    "\n",
    "**Штрафные баллы:**\n",
    "\n",
    "1. Невыполнение PEP8 -1 балл\n",
    "2. Отсутствие фамилии в имени скрипта (скрипт должен называться по аналогии со stroykova_hw2.ipynb) -1 балл\n",
    "3. Все строчки должны быть выполнены. Нужно, чтобы output команды можно было увидеть уже в git'е. В противном случае -1 балл\n",
    "4. При оформлении ДЗ нужно пользоваться данным файлом в качестве шаблона. Не нужно удалять и видоизменять написанный код и текст, если явно не указана такая возможность. В противном случае -1 балл\n",
    "<hr\\>"
   ]
  },
  {
   "cell_type": "code",
   "execution_count": 1,
   "metadata": {},
   "outputs": [],
   "source": [
    "import pandas as pd\n",
    "import numpy as np\n",
    "import matplotlib.pyplot as plt\n",
    "\n",
    "%matplotlib inline\n",
    "%load_ext pycodestyle_magic\n",
    "plt.style.use('ggplot')\n",
    "plt.rcParams['figure.figsize'] = (12,5)"
   ]
  },
  {
   "cell_type": "markdown",
   "metadata": {},
   "source": [
    "Здравствуйте, уважаемые студенты! \n",
    "\n",
    "В этом задании мы будем реализовать линейные модели. Необходимо реализовать линейную и логистическую регрессии с L2 регуляризацией"
   ]
  },
  {
   "cell_type": "markdown",
   "metadata": {},
   "source": [
    "# Теоретическое введение\n",
    "\n"
   ]
  },
  {
   "cell_type": "markdown",
   "metadata": {},
   "source": [
    "Линейная регрессия решает задачу регрессии и оптимизирует функцию потерь MSE \n",
    "\n",
    "$$L(w) =  \\frac{1}{N}\\left[\\sum_i (y_i - a_i) ^ 2 \\right], $$ где $y_i$ $-$ целевая функция,  $a_i = a(x_i) =  \\langle\\,x_i,w\\rangle ,$ $-$ предсказание алгоритма на объекте $x_i$, $w$ $-$ вектор весов (размерности $D$), $x_i$ $-$ вектор признаков (такой же размерности $D$).\n",
    "\n",
    "Не забываем, что здесь и далее  мы считаем, что в $x_i$ есть тождественный вектор единиц, ему соответствует вес $w_0$.\n"
   ]
  },
  {
   "cell_type": "markdown",
   "metadata": {},
   "source": [
    "Логистическая регрессия является линейным классификатором, который оптимизирует так называемый функционал log loss:"
   ]
  },
  {
   "cell_type": "markdown",
   "metadata": {},
   "source": [
    "$$L(w) = - \\frac{1}{N}\\left[\\sum_i y_i \\log a_i + ( 1 - y_i) \\log (1 - a_i) \\right],$$\n",
    "где  $y_i  \\in \\{0,1\\}$ $-$ метка класса, $a_i$ $-$ предсказание алгоритма на объекте $x_i$. Модель пытается предсказать апостериорую вероятность объекта принадлежать к классу \"1\":\n",
    "$$ p(y_i = 1 | x_i) = a(x_i) =  \\sigma( \\langle\\,x_i,w\\rangle ),$$\n",
    "$w$ $-$ вектор весов (размерности $D$), $x_i$ $-$ вектор признаков (такой же размерности $D$).\n",
    "\n",
    "Функция $\\sigma(x)$ $-$ нелинейная функция, пероводящее скалярное произведение объекта на веса в число $\\in (0,1)$ (мы же моделируем вероятность все-таки!)\n",
    "\n",
    "$$\\sigma(x) = \\frac{1}{1 + \\exp(-x)}$$\n",
    "\n",
    "Если внимательно посмотреть на функцию потерь, то можно заметить, что в зависимости от правильного ответа алгоритм штрафуется или функцией $-\\log a_i$, или функцией $-\\log (1 - a_i)$.\n",
    "\n"
   ]
  },
  {
   "cell_type": "markdown",
   "metadata": {},
   "source": [
    "Часто для решения проблем, которые так или иначе связаны с проблемой переобучения, в функционал качества добавляют слагаемое, которое называют ***регуляризацией***. Итоговый функционал для линейной регрессии тогда принимает вид:\n",
    "\n",
    "$$L(w) =  \\frac{1}{N}\\left[\\sum_i (y_i - a_i) ^ 2 \\right] + \\frac{1}{C}R(w) $$\n",
    "\n",
    "Для логистической: \n",
    "$$L(w) = - \\frac{1}{N}\\left[\\sum_i y_i \\log a_i + ( 1 - y_i) \\log (1 - a_i) \\right] +  \\frac{1}{C}R(w)$$\n",
    "\n",
    "Самое понятие регуляризации введено основателем ВМК академиком Тихоновым https://ru.wikipedia.org/wiki/Метод_регуляризации_Тихонова\n",
    "\n",
    "Идейно методика регуляризации заключается в следующем $-$ мы рассматриваем некорректно поставленную задачу (что это такое можно найти в интернете), для того чтобы сузить набор различных вариантов (лучшие из которых будут являться переобучением ) мы вводим дополнительные ограничения на множество искомых решений. На лекции Вы уже рассмотрели два варианта регуляризации.\n",
    "\n",
    "$L1$ регуляризация:\n",
    "$$R(w) = \\sum_{j=1}^{D}|w_j|$$\n",
    "$L2$ регуляризация:\n",
    "$$R(w) =  \\sum_{j=1}^{D}w_j^2$$\n",
    "\n",
    "С их помощью мы ограничиваем модель в  возможности выбора каких угодно весов минимизирующих наш лосс, модель уже не сможет подстроиться под данные как ей угодно. \n",
    "\n",
    "Вам нужно добавить соотвествущую Вашему варианту $L2$ регуляризацию.\n",
    "\n",
    "И так, мы поняли, какую функцию ошибки будем минимизировать, разобрались, как получить предсказания по объекту и обученным весам. Осталось разобраться, как получить оптимальные веса. Для этого нужно выбрать какой-то метод оптимизации.\n",
    "\n"
   ]
  },
  {
   "cell_type": "markdown",
   "metadata": {},
   "source": [
    "Градиентный спуск является самым популярным алгоритмом обучения линейных моделей. В этом задании Вам предложат реализовать стохастический градиентный спуск или  мини-батч градиентный спуск (мини-батч на русский язык довольно сложно перевести, многие переводят это как \"пакетный\", но мне не кажется этот перевод удачным). Далее нам потребуется определение **эпохи**.\n",
    "Эпохой в SGD и MB-GD называется один проход по **всем** объектам в обучающей выборки.\n",
    "* В SGD градиент расчитывается по одному случайному объекту. Сам алгоритм выглядит примерно так:\n",
    "        1) Перемешать выборку\n",
    "        2) Посчитать градиент функции потерь на одном объекте (далее один объект тоже будем называть батчем)\n",
    "        3) Сделать шаг спуска\n",
    "        4) Повторять 2) и 3) пока не пройдет максимальное число эпох.\n",
    "* В Mini Batch SGD - по подвыборке объектов. Сам алгоритм выглядит примерно так::\n",
    "        1) Перемешать выборку, выбрать размер мини-батча (от 1 до размера выборки)\n",
    "        2) Почитать градиент функции потерь по мини-батчу (не забыть поделить на  число объектов в мини-батче)\n",
    "        3) Сделать шаг спуска\n",
    "        4) Повторять 2) и 3) пока не пройдет максимальное число эпох.\n",
    "* Для отладки алгоритма реализуйте возможность  вывода средней ошибки на обучении модели по объектам (мини-батчам). После шага градиентного спуска посчитайте значение ошибки на объекте (или мини-батче), а затем усредните, например, по ста шагам. Если обучение проходит корректно, то мы должны увидеть, что каждые 100 шагов функция потерь уменьшается. \n",
    "* Правило останова - максимальное количество эпох\n",
    "    \n"
   ]
  },
  {
   "cell_type": "markdown",
   "metadata": {},
   "source": [
    "# Теоретические вопросы (2 балла)\n",
    "В этой части Вам будут предложены теоретичские вопросы и задачи по теме. Вы, конечно, можете списать их у своего товарища или найти решение в интернете, но учтите, что они обязательно войдут в теоретический коллоквиум. Лучше разобраться в теме сейчас и успешно ответить на коллоквиуме, чем списать, не разобравшись в материале, и быть терзаемым совестью. \n",
    "\n",
    "\n",
    "Формулы надо оформлять в формате **LaTeX**."
   ]
  },
  {
   "cell_type": "markdown",
   "metadata": {},
   "source": [
    "<b>Задача 1.</b> Градиент для линейной регрессии.\n",
    "* Выпишите формулу обновления весов для линейной регрессии с L2 регуляризацией для мини-батч градиентого спуска размера $n$:\n",
    "\n",
    "$$ w_{new} = w_{old} - ... $$\n",
    "\n",
    " Отнеситесь к этому пункту максимально серьезно, это Вам нужно будет реализовать в задании.\n",
    " \n",
    "Проанализруйте итоговую формулу градиента - как  интуитивно можно  описать, чему равен градиент?"
   ]
  },
  {
   "cell_type": "markdown",
   "metadata": {},
   "source": [
    "***Решение***\n",
    "<p>Для задачи линейной регрессии с L2 регуляризацией нужно минимизировать функционал:</p>\n",
    "$$Q(w) = \\frac{1}{N}\\sum_{i = 1}^{N}(<x_i, w> - y_i)^2 + \\frac{1}{C}\\|w\\|^2$$\n",
    "В случае мини-батч градиентного спуска требуется найти градиент от\n",
    "$$Q(w) = \\frac{1}{n}\\sum_{i = 1}^{n}(<x_{j_i}, w> - y_i)^2 + \\frac{1}{C}\\|w\\|^2,$$\n",
    "где $\\{j_1, \\cdots, j_n\\}~-$ случайно выбранные объекты (выбираются на каждой итерации), $1 < n < N$.\n",
    "<p>Т.о.</p>\n",
    "$$w_{k+1} = w_{k} - \\alpha_k \\left(\\frac{2}{n}\\sum_{i = 1}^{n}(<x_{j_i}, w_k> - y_i)x_{j_i} + \\frac{2}{C}w_k\\right),$$\n",
    "где $\\alpha_k~-$ длина шага на k-ой итерации.\n",
    "\n",
    "Градиент является направлением наискорейшего роста функции $Q(w)$, а антиградиент - наискорейшего убывания."
   ]
  },
  {
   "cell_type": "markdown",
   "metadata": {},
   "source": [
    "<b>Задача 2.</b> Градиент для логистической регрессии.\n",
    "* Выпишите формулу обновления весов для логистической регрессии с L2 регуляризацией  для мини-батч градиентого спуска размера $n$:\n",
    "\n",
    "$$ w_{new} = w_{old} - ... $$\n",
    "\n",
    " Отнеситесь к этому пункту максимально серьезно, это Вам нужно будет реализовать в задании.\n",
    " \n",
    "Проанализруйте итоговую формулу градиента - как  интуитивно можно  описать, чему равен градиент? Как соотносится этот градиент с градиентом, возникающий в задаче линейной регрессии?\n",
    "\n",
    "Подсказка: Вам градиент, которой получается если “в лоб” продифференцировать,  надо немного преобразовать.\n",
    "Надо подставить, что $1 - \\sigma(w,x) $ это  $1 - a(x_i)$, а  $-\\sigma(w,x)$ это $0 - a(x_i)$.  Тогда получится свести к одной красивой формуле с линейной регрессией, которую программировать будет намного проще."
   ]
  },
  {
   "cell_type": "markdown",
   "metadata": {},
   "source": [
    "***Решение***\n",
    "Пусть $y_i \\in \\{0, 1\\}, i = 1,\\ldots, n~-$ индексы случайно выбранных объектов, $a_i = \\sigma(<x_i, w>)$, тогда \n",
    "\n",
    "$$L(w |X, y) = - \\frac{1}{n}\\left[\\sum_{i = 1}^{n} y_i \\log \\sigma(<x_i, w>) + ( 1 - y_i) \\log (1 - \\sigma(<x_i, w>)) \\right] +  \\frac{1}{C}\\|w\\|^2 = $$\n",
    "$$=- \\frac{1}{n}\\left[\\sum_{i = 1}^{n} y_i \\log \\sigma(<x_i, w>) + ( 1 - y_i) \\log (\\sigma(-<x_i, w>)) \\right] +  \\frac{1}{C}\\|w\\|^2.$$\n",
    "\n",
    "Учитывая, что $\\sigma(<x,w>) + \\sigma(-<x,w>) = 1$ и $\\sigma'(z) = \\sigma(z)\\sigma(-z)$, найдем градиент функции $L(w |X, y)$:\n",
    "$$\\nabla_w L(w |X, y) = - \\frac{1}{n}\\left[\\sum_{i = 1}^{n} y_i x_i \\sigma(-<x_i, w>) - ( 1 - y_i) x_i \\sigma(<x_i, w>) \\right] +  \\frac{2}{C}w=$$\n",
    "$$=- \\frac{1}{n}\\left[\\sum_{i = 1}^{n} x_i\\left(y_i\\left(\\sigma(-<x_i, w>)+ \\sigma(<x_i, w>)\\right) - \\sigma(<x_i, w>)\\right) \\right] +  \\frac{2}{C}w=$$\n",
    "$$=- \\frac{1}{n}\\left[\\sum_{i = 1}^{n} x_i\\left(y_i - \\sigma(<x_i, w>)\\right) \\right] +  \\frac{2}{C}w.$$\n",
    "<p>Т.о.</p>\n",
    "$$w_{k+1} = w_{k} - \\alpha_k \\left(\\frac{1}{n}\\left[\\sum_{i = 1}^{n} x_i\\left(\\sigma(<x_i, w_k>) - y_i\\right) \\right] +  \\frac{2}{C}w_k\\right),$$\n",
    "\n",
    "где $\\alpha_k~-$ длина шага на k-ой итерации.\n",
    "\n",
    "Градиент является направлением наискорейшего роста функции $Q(w)$, а антиградиент - наискорейшего убывания."
   ]
  },
  {
   "cell_type": "markdown",
   "metadata": {},
   "source": [
    "<b>Задача 3.</b> Точное решение линейной регрессии\n",
    "\n",
    "На лекции было показано, что точное решение линейной регрессии имеет вид $w = (X^TX)^{-1}X^TY $. \n",
    "* Покажите, что это действительно является точкой минимума в случае, если матрица X имеет строк не меньше, чем столбцов и имеет полный ранг. Подсказка: посчитайте Гессиан и покажите, что в этом случае он положительно определен. \n",
    "* Выпишите точное решение для модели с $L2$ регуляризацией. Как L2 регуляризация помогает с точным решением где матрица X имеет линейно зависимые признаки?"
   ]
  },
  {
   "cell_type": "markdown",
   "metadata": {},
   "source": [
    "***Решение***\n",
    "<ol>\n",
    "    <li><p> Чтобы показать, что точное решение линейной регрессии $w = (X^TX)^{-1}X^TY$ является точкой минимума, воспользуемся достаточным условием экстремума в терминах частных производных. Для того, чтобы $f: U(x_0) \\rightarrow \\mathbb{R}$, дважды дифференцируемая по всем аргументам в точке $x_{0}=(x_{0}^{1},...,x_{0}^{m}) \\in \\mathbb{R}^{m}$, в ней имела локальный минимум достаточно, чтобы её Гессиан был положителен.</p>\n",
    "        <p>$$L(w) = \\frac{1}{N}\\|Xw - Y\\|^2$$ </p>\n",
    "        <p>$$\\frac{dL(w)}{dw} = \\frac{2}{N}\\left(X^TXw - X^TY\\right)$$ </p>\n",
    "        <p>$$\\frac{d^{2}L(w)}{dw^{2}} = X^TX$$ </p>\n",
    "        <p>В нашем случае нужно показать, что $X^TX~-$ положительно определенная матрица.</p>\n",
    "        <p>Действительно, для $\\forall z \\in \\mathbb{R}^{m}, z \\neq \\{\\bf{0}\\}$ $$\\langle X^TXz, y \\rangle = \\langle Xz, Xz \\rangle = \\|Xz\\|^{2} > 0$$</p>\n",
    "        <p>Следовательно, $w = (X^TX)^{-1}X^TY ~-$ точкой минимума.</p>\n",
    "    </li>\n",
    "    <li>Задача с $L_2$ регуляризацией: $$L(w) = \\frac{1}{N}\\|Xw - Y\\|^2 + \\frac{1}{C}\\|w\\|^2 \\rightarrow \\min_w$$\n",
    "        <p>$$\\frac{\\partial L(w)}{\\partial w} = \\frac{2}{N}\\left(X^TXw - X^TY\\right) + \\frac{2}{C}w = 0$$</p>\n",
    "        $$ w = \\left(X^TX + \\frac{N}{C}I\\right)^{-1}X^TY$$\n",
    "        <p>Если матрица X имеет линейно зависимые признаки, то оптимизационная задача может иметь бесконечное число решений, большинство из которых является переобученными. То есть для любого объекта $x$ существует такой вектор $v \\neq <b>0</b>: <x, v> = 0$. Пусть $w~-$ оптимальный вектор весов, но тогда $w + \\alpha v $ тоже оптимальный. Следовательно, метод оптимизации может найти очень большие веса, а это значит, что классификатор переобучится (будет очень чувствителен к маленьким изменениям признаков). А в задаче регуляризации веса с большой нормой штрафуются, поэтому проблема переобучения в этом случае отпадает.</p>\n",
    "    </li>\n",
    "</ol>"
   ]
  },
  {
   "cell_type": "markdown",
   "metadata": {},
   "source": [
    "<b>Задача 4.</b>  Предсказываем вероятности.\n",
    "\n",
    "Когда говорят о логистической регрессии, произносят фразу, что она \"предсказывает вероятности положительного класса\". Давайте разберемся, что же за этим стоит. Посчитаем математическое ожидание функции потерь и проверим, что предсказание алгоритма, оптимизирующее это мат. ожидание, будет являться вероятностью положительного класса. \n",
    "\n",
    "И так, функция потерь на объекте $x_i$, который имеет метку $y_i \\in \\{0,1\\}$  для предсказания $a(x_i)$ равна:\n",
    "$$L(y_i, b) =-[y_i == 1] \\log a(x_i)  - [y_i == 0] \\log(1 - a(x_i)) $$\n",
    "\n",
    "Где $[]$ означает индикатор $-$ он равен единице, если значение внутри него истинно, иначе он равен нулю. Тогда мат. ожидание при условии конкретного $x_i$  по определение мат. ожидания дискретной случайной величины:\n",
    "$$E(L | x_i) = -p(y_i = 1 |x_i ) \\log a(x_i)  - p(y_i = 0 | x_i) \\log( 1 - a(x_i))$$\n",
    "* Докажите, что значение $a(x_i)$, минимизирующее данное мат. ожидание, в точности равно $p(y_i = 1 |x_i)$, то есть равно вероятности положительного класса.\n",
    "\n",
    "Подсказка: возможно, придется воспользоваться, что  $p(y_i = 1 | x_i) + p(y_i = 0 | x_i) = 1$"
   ]
  },
  {
   "cell_type": "markdown",
   "metadata": {},
   "source": [
    "***Решение***\n",
    "\n",
    "$$ \\dfrac{d E(L | x_i)}{da(x_i)} = 0 $$\n",
    "\n",
    "$$ \\frac {dE(L | x_i)}{da(x_i)} = - \\frac{p(y_i = 1| x_i)}{a(x_i)}  + \\frac{p(y_i = 0|x_i)}{1 - a(x_i)} = 0 $$\n",
    "\n",
    "$$-p(y_i = 1| x_i)(1 - a(x_i)) + (1 - p(y_i = 1| x_i))a(x_i) = 0$$\n",
    "\n",
    "$$  a(x_i) = p(y_i = 1 | x_i)$$"
   ]
  },
  {
   "cell_type": "markdown",
   "metadata": {},
   "source": [
    "<b>Задача 5.</b>  Смысл регуляризации.\n",
    "\n",
    "Нужно ли в L1/L2 регуляризации использовать свободный член $w_0$ (который не умножается ни на какой признак)?\n",
    "\n",
    "Подсказка: подумайте, для чего мы вводим $w_0$"
   ]
  },
  {
   "cell_type": "markdown",
   "metadata": {},
   "source": [
    "***Решение***\n",
    "\n",
    "В задаче L1/L2 регуляризации не нужно использовать свободный член. Если мы будем штрафовать за его величину, то мы будем учитывать представления о близости к нулю нашей целевой переменной и отсутствии для нее смещения, что является странным."
   ]
  },
  {
   "cell_type": "markdown",
   "metadata": {},
   "source": [
    "#  Реализация линейной модели (5 баллов)"
   ]
  },
  {
   "cell_type": "markdown",
   "metadata": {},
   "source": [
    "## Зачем нужны батчи?\n"
   ]
  },
  {
   "cell_type": "markdown",
   "metadata": {},
   "source": [
    "Как Вы могли заметить из теоретического введения, что в случае SGD, что в случа mini-batch GD,  на каждой итерации обновление весов  происходит только по небольшой части данных (1 пример в случае SGD, batch примеров в случае mini-batch). То есть для каждой итерации нам *** не нужна вся выборка***. Мы можем просто итерироваться по выборке, беря батч нужного размера (далее 1 объект тоже будем называть батчом).\n",
    "\n",
    "Легко заметить, что в этом случае нам не нужно загружать все данные в оперативную память, достаточно просто считать батч с диска, обновить веса, считать диска другой батч и так далее. В целях упрощения домашней работы, прямо с диска  мы считывать не будем, будем работать с обычными numpy array. \n",
    "\n",
    "\n",
    "\n"
   ]
  },
  {
   "cell_type": "markdown",
   "metadata": {},
   "source": [
    "## Немножко про генераторы в Python\n",
    "\n"
   ]
  },
  {
   "cell_type": "markdown",
   "metadata": {},
   "source": [
    "Идея считывания данных кусками удачно ложится на так называемые ***генераторы*** из языка Python. В данной работе Вам предлагается не только разобраться с логистической регрессией, но  и познакомиться с таким важным элементом языка.  При желании Вы можете убрать весь код, связанный с генераторами, и реализовать логистическую регрессию и без них, ***штрафоваться это никак не будет***. Главное, чтобы сама модель была реализована правильно, и все пункты были выполнены. \n",
    "\n",
    "Подробнее можно почитать вот тут https://anandology.com/python-practice-book/iterators.html\n"
   ]
  },
  {
   "cell_type": "markdown",
   "metadata": {},
   "source": [
    "К генератору стоит относиться просто как к функции, которая порождает не один объект, а целую последовательность объектов. Новое значение из последовательности генерируется с помощью ключевого слова ***yield***. Ниже Вы можете насладиться  генератором чисел Фибоначчи."
   ]
  },
  {
   "cell_type": "code",
   "execution_count": 2,
   "metadata": {},
   "outputs": [],
   "source": [
    "def fib(max_iter=4):\n",
    "    a, b = 0, 1\n",
    "    iter_num = 0\n",
    "    while 1:\n",
    "        yield a\n",
    "        a, b = b, a + b\n",
    "        iter_num += 1\n",
    "        if iter_num == max_iter:\n",
    "            break"
   ]
  },
  {
   "cell_type": "markdown",
   "metadata": {},
   "source": [
    "Вот так можно сгенерировать последовательность Фибоначчи. \n",
    "\n",
    "Заметьте, что к генераторам можно применять некоторые стандартные функции из Python, например enumerate."
   ]
  },
  {
   "cell_type": "code",
   "execution_count": 3,
   "metadata": {},
   "outputs": [
    {
     "name": "stdout",
     "output_type": "stream",
     "text": [
      "Fib num: 0 fib values: 0\n",
      "Fib num: 1 fib values: 1\n",
      "Fib num: 2 fib values: 1\n",
      "Fib num: 3 fib values: 2\n"
     ]
    }
   ],
   "source": [
    "new_generator = fib()\n",
    "for j, fib_val in enumerate(new_generator):\n",
    "    print (\"Fib num: \" + str(j) + \" fib values: \" + str(fib_val))"
   ]
  },
  {
   "cell_type": "markdown",
   "metadata": {},
   "source": [
    "Пересоздавая объект, можно сколько угодно раз генерировать заново последовательность. "
   ]
  },
  {
   "cell_type": "code",
   "execution_count": 4,
   "metadata": {},
   "outputs": [
    {
     "name": "stdout",
     "output_type": "stream",
     "text": [
      "Fib num: 0 fib values: 0\n",
      "Fib num: 1 fib values: 1\n",
      "Fib num: 2 fib values: 1\n",
      "Fib num: 3 fib values: 2\n",
      "Fib num: 0 fib values: 0\n",
      "Fib num: 1 fib values: 1\n",
      "Fib num: 2 fib values: 1\n",
      "Fib num: 3 fib values: 2\n",
      "Fib num: 0 fib values: 0\n",
      "Fib num: 1 fib values: 1\n",
      "Fib num: 2 fib values: 1\n",
      "Fib num: 3 fib values: 2\n"
     ]
    }
   ],
   "source": [
    "for i in range(0, 3):\n",
    "    new_generator = fib()\n",
    "    for j, fib_val in enumerate(new_generator):\n",
    "        print (\"Fib num: \" + str(j) + \" fib values: \" + str(fib_val))"
   ]
  },
  {
   "cell_type": "markdown",
   "metadata": {},
   "source": [
    "А вот так уже нельзя."
   ]
  },
  {
   "cell_type": "code",
   "execution_count": 5,
   "metadata": {},
   "outputs": [
    {
     "name": "stdout",
     "output_type": "stream",
     "text": [
      "Fib num: 0 fib values: 0\n",
      "Fib num: 1 fib values: 1\n",
      "Fib num: 2 fib values: 1\n",
      "Fib num: 3 fib values: 2\n"
     ]
    }
   ],
   "source": [
    "new_generator = fib()\n",
    "for i in range(0, 3):\n",
    "    for j, fib_val in enumerate(new_generator):\n",
    "        print (\"Fib num: \" + str(j) + \" fib values: \" + str(fib_val))"
   ]
  },
  {
   "cell_type": "markdown",
   "metadata": {},
   "source": [
    "Концепция крайне удобная для обучения  моделей $-$ у Вас есть некий источник данных, который Вам выдает их кусками, и Вам совершенно все равно откуда он их берет. Под ним может скрывать как массив в оперативной памяти, как файл на жестком диске, так и SQL база данных. Вы сами данные никуда не сохраняете, оперативную память экономите."
   ]
  },
  {
   "cell_type": "markdown",
   "metadata": {},
   "source": [
    "Если Вам понравилась идея с генераторами, то Вы можете реализовать свой, используя прототип batch_generator. В нем Вам нужно выдавать батчи признаков и ответов для каждой новой итерации спуска. Если не понравилась идея, то можете реализовывать SGD или mini-batch GD без генераторов."
   ]
  },
  {
   "cell_type": "code",
   "execution_count": 13,
   "metadata": {},
   "outputs": [],
   "source": [
    "def batch_generator(X, y, shuffle=True, batch_size=1):\n",
    "    \"\"\"\n",
    "    Гератор новых батчей для обучения\n",
    "    X          - матрица объекты-признаки\n",
    "    y_batch    - вектор ответов\n",
    "    shuffle    - нужно ли случайно перемешивать выборку\n",
    "    batch_size - размер батча ( 1 это SGD, > 1 mini-batch GD)\n",
    "    Генерирует подвыборку для итерации спуска (X_batch, y_batch)\n",
    "    \"\"\"\n",
    "    size = X.shape[0]\n",
    "    ind = np.arange(0, size)\n",
    "    if shuffle:\n",
    "        np.random.shuffle(ind)\n",
    "    for i in range(0, size, batch_size):\n",
    "        indx = ind[i : min(i + batch_size, size)]\n",
    "        X_batch = X[indx]\n",
    "        y_batch = y[indx][:, np.newaxis]\n",
    "        yield (X_batch, y_batch)\n",
    "\n",
    "# Теперь можно сделать генератор по данным ()\n",
    "#  my_batch_generator = batch_generator(X, y, shuffle=True, batch_size=1):"
   ]
  },
  {
   "cell_type": "code",
   "execution_count": 24,
   "metadata": {},
   "outputs": [],
   "source": [
    "from sklearn.base import BaseEstimator, ClassifierMixin\n",
    "\n",
    "\n",
    "def sigmoid(x):\n",
    "    \"\"\"\n",
    "    Вычисляем значение сигмоида.\n",
    "    X - выход линейной модели\n",
    "    \"\"\"\n",
    "    sigm_value_x = 1/(1 + np.exp(-x))\n",
    "    return sigm_value_x\n",
    "\n",
    "\n",
    "class MySGDClassifier(BaseEstimator, ClassifierMixin):\n",
    "    def __init__(self, batch_generator, C=1, alpha=0.01, max_epoch=10,\n",
    "                 model_type='lin_reg', batch_size=1):\n",
    "        \"\"\"\n",
    "        batch_generator -- функция генератор, которой будем создавать батчи\n",
    "        C - коэф. регуляризации\n",
    "        alpha - скорость спуска\n",
    "        max_epoch - максимальное количество эпох\n",
    "        model_type - тим модели, lin_reg или log_reg\n",
    "        \"\"\"\n",
    "        \n",
    "        self.C = C\n",
    "        self.alpha = alpha\n",
    "        self.max_epoch = max_epoch\n",
    "        self.batch_generator = batch_generator\n",
    "        self.errors_log = {'iter' : [], 'loss' : []}  \n",
    "        self.model_type = model_type\n",
    "        self.batch_size = batch_size\n",
    "        \n",
    "    def calc_loss(self, X_batch, y_batch):\n",
    "        \"\"\"\n",
    "        Считаем функцию потерь по батчу \n",
    "        X_batch - матрица объекты-признаки по батчу\n",
    "        y_batch - вектор ответов по батчу\n",
    "        Не забудте тип модели (линейная или логистическая регрессия)!\n",
    "        \"\"\"\n",
    "        n = X_batch.shape[0]\n",
    "        if self.model_type == 'lin_reg':\n",
    "            loss = 1/n * np.linalg.norm(X_batch@self.weights - y_batch, ord=2)**2\n",
    "            loss += 1/ self.C * np.linalg.norm(self.weights[1:])**2\n",
    "        if self.model_type == 'log_reg':\n",
    "            sgm = sigmoid(X_batch@self.weights)\n",
    "            loss = -1/n * np.sum(y_batch * np.log(sgm) + (1 - y_batch) * np.log(1 - sgm))\n",
    "            loss += 1/ self.C * np.linalg.norm(self.weights[1:])**2\n",
    "        return loss\n",
    "    \n",
    "    def calc_loss_grad(self, X_batch, y_batch):\n",
    "        \"\"\"\n",
    "        Считаем  градиент функции потерь по батчу (то что Вы вывели в задании 1)\n",
    "        X_batch - матрица объекты-признаки по батчу\n",
    "        y_batch - вектор ответов по батчу\n",
    "        Не забудте тип модели (линейная или логистическая регрессия)!\n",
    "        \"\"\"\n",
    "        n = X_batch.shape[0]\n",
    "        l = np.array([[0] + [2] * (X_batch.shape[1] - 1)]).T\n",
    "        if self.model_type == 'lin_reg':\n",
    "            loss_grad = 2/n * X_batch.T @(X_batch@self.weights - y_batch) + l * self.weights/self.C\n",
    "        if self.model_type == 'log_reg':\n",
    "            sgm =sigmoid(X_batch@self.weights)\n",
    "            loss_grad = 1/n * X_batch.T @ (sgm - y_batch)  + l * self.weights/self.C\n",
    "        return loss_grad\n",
    "    \n",
    "    def update_weights(self, new_grad):\n",
    "        \"\"\"\n",
    "        Обновляем вектор весов\n",
    "        new_grad - градиент по батчу\n",
    "        \"\"\"\n",
    "        self.weights = self.weights - self.alpha * new_grad\n",
    "    \n",
    "    def fit(self, X, y):\n",
    "        '''\n",
    "        Обучение модели\n",
    "        X - матрица объекты-признаки\n",
    "        y - вектор ответов\n",
    "        '''\n",
    "        \n",
    "        # Нужно инициализровать случайно веса\n",
    "        XX = np.concatenate((np.ones((X.shape[0], 1)), X), 1)\n",
    "        self.weights = np.random.uniform(0, 1, (XX.shape[1], 1))\n",
    "        for n in range(0, self.max_epoch):\n",
    "            new_epoch_generator = self.batch_generator(XX,y, self.batch_size)\n",
    "            for batch_num, new_batch in enumerate(new_epoch_generator):\n",
    "                X_batch = new_batch[0]\n",
    "                y_batch = new_batch[1]\n",
    "                batch_grad = self.calc_loss_grad(X_batch, y_batch)\n",
    "                batch_loss = self.calc_loss(X_batch, y_batch)\n",
    "                self.update_weights(batch_grad)\n",
    "                # Подумайте в каком месте стоит посчитать ошибку для отладки модели\n",
    "                # До градиентного шага или после\n",
    "                # batch_loss = self.calc_loss(X_batch, y_batch)\n",
    "                self.errors_log['iter'].append(batch_num)\n",
    "                self.errors_log['loss'].append(batch_loss)\n",
    "                \n",
    "        return self\n",
    "        \n",
    "    def predict(self, X):\n",
    "        '''\n",
    "        Предсказание класса\n",
    "        X - матрица объекты-признаки\n",
    "        Не забудте тип модели (линейная или логистическая регрессия)!\n",
    "        '''\n",
    "        X = np.concatenate((np.ones((X.shape[0], 1)), X), 1)\n",
    "        if self.model_type == 'lin_reg':\n",
    "            y_hat = (X @ self.weights > 0).astype(int)\n",
    "        if self.model_type == 'log_reg':\n",
    "            y_hat = (sigmoid(X @ self.weights) > 0.5).astype(int)\n",
    "        # Желательно здесь использовать матричные операции между X и весами, например, numpy.dot \n",
    "        return y_hat\n",
    "    \n",
    "    def predict_t(self, X, t):\n",
    "        X = np.concatenate((np.ones((X.shape[0], 1)), X), 1)\n",
    "        if self.model_type == 'lin_reg':\n",
    "            y_hat = (X @ self.weights > t).astype(int)\n",
    "        if self.model_type == 'log_reg':\n",
    "            y_hat = (sigmoid(X @ self.weights) > t).astype(int)\n",
    "        # Желательно здесь использовать матричные операции между X и весами, например, numpy.dot \n",
    "        return y_hat"
   ]
  },
  {
   "cell_type": "markdown",
   "metadata": {},
   "source": [
    "Запустите обе регрессии на синтетических данных. \n",
    "\n",
    "\n",
    "Выведите полученные веса и нарисуйте разделяющую границу между классами (используйте только первых два веса для первых двух признаков X[:,0], X[:,1] для отображения в 2d пространство ).  "
   ]
  },
  {
   "cell_type": "code",
   "execution_count": 25,
   "metadata": {},
   "outputs": [],
   "source": [
    "def plot_decision_boundary(clf, X, lbl=None):\n",
    "    wts = clf.weights\n",
    "    x_min, x_max = X[:, 0].min() - 0.1, X[:, 0].max() + 0.1\n",
    "    x = np.arange(x_min, x_max)\n",
    "    plt.plot(x, -(wts[1] * x + wts[0]) / wts[2], label='{}'.format(lbl))"
   ]
  },
  {
   "cell_type": "code",
   "execution_count": 26,
   "metadata": {},
   "outputs": [
    {
     "data": {
      "text/plain": [
       "<matplotlib.legend.Legend at 0x1e3347d2668>"
      ]
     },
     "execution_count": 26,
     "metadata": {},
     "output_type": "execute_result"
    },
    {
     "data": {
      "image/png": "[encoded data removed]",
      "text/plain": [
       "<Figure size 432x288 with 1 Axes>"
      ]
     },
     "metadata": {
      "needs_background": "light"
     },
     "output_type": "display_data"
    }
   ],
   "source": [
    "np.random.seed(0)\n",
    "\n",
    "C1 = np.array([[0., -0.8], [1.5, 0.8]])\n",
    "C2 = np.array([[1., -0.7], [2., 0.7]])\n",
    "gauss1 = np.dot(np.random.randn(200, 2) + np.array([5, 3]), C1)\n",
    "gauss2 = np.dot(np.random.randn(200, 2) + np.array([1.5, 0]), C2)\n",
    "\n",
    "X = np.vstack([gauss1, gauss2])\n",
    "y = np.r_[np.ones(200), np.zeros(200)]\n",
    "clf1 = MySGDClassifier(batch_generator, model_type='lin_reg')\n",
    "clf1.fit(X, y)\n",
    "plot_decision_boundary(clf1, X, lbl='lin_reg')\n",
    "clf2 = MySGDClassifier(batch_generator, model_type='log_reg')\n",
    "clf2.fit(X, y)\n",
    "plot_decision_boundary(clf2, X, lbl='log_reg')\n",
    "plt.scatter(X[:,0], X[:,1], c=y)\n",
    "plt.legend ()"
   ]
  },
  {
   "cell_type": "markdown",
   "metadata": {},
   "source": [
    "Далее будем анализировать Ваш алгоритм. \n",
    "Для этих заданий используйте датасет ниже."
   ]
  },
  {
   "cell_type": "code",
   "execution_count": 27,
   "metadata": {},
   "outputs": [],
   "source": [
    "from sklearn.datasets import make_classification"
   ]
  },
  {
   "cell_type": "code",
   "execution_count": 28,
   "metadata": {},
   "outputs": [],
   "source": [
    "X, y = make_classification(n_samples=100000, n_features=10, \n",
    "                           n_informative=4, n_redundant=0, \n",
    "                           random_state=123, class_sep=1.0,\n",
    "                           n_clusters_per_class=1)"
   ]
  },
  {
   "cell_type": "markdown",
   "metadata": {},
   "source": [
    "Покажите сходимости обеих регрессией на этом датасете: изобразите график  функции потерь, усредненной по $N$ шагам градиентого спуска, для разных `alpha` (размеров шага). Разные `alpha` расположите на одном графике. \n",
    "\n",
    "$N$ можно брать 10, 50, 100 и т.д. "
   ]
  },
  {
   "cell_type": "code",
   "execution_count": 35,
   "metadata": {},
   "outputs": [
    {
     "data": {
      "text/plain": [
       "<matplotlib.legend.Legend at 0x20a41f86d30>"
      ]
     },
     "execution_count": 35,
     "metadata": {},
     "output_type": "execute_result"
    },
    {
     "data": {
      "image/png": "[encoded data removed]",
      "text/plain": [
       "<Figure size 432x288 with 1 Axes>"
      ]
     },
     "metadata": {
      "needs_background": "light"
     },
     "output_type": "display_data"
    }
   ],
   "source": [
    "alpha = [0.01, 0.05, 0.1]\n",
    "N = 50\n",
    "fig = plt.figure()\n",
    "for  a in alpha:\n",
    "    loss = []\n",
    "    clf1 = MySGDClassifier(batch_generator, model_type='log_reg', alpha=a)\n",
    "    clf1.fit(X, y)\n",
    "    i = 0\n",
    "    loss = list([np.mean(clf1.errors_log['loss'][i * N : (i + 1) * N]) for i in range(len(clf1.errors_log['loss'])//N)])\n",
    "    plt.plot(np.arange(len(loss)), loss, label='alpha={}'.format(a))\n",
    "    loss.clear()\n",
    "plt.legend()\n",
    "     \n",
    "\n",
    "        \n",
    "        "
   ]
  },
  {
   "cell_type": "code",
   "execution_count": 29,
   "metadata": {},
   "outputs": [
    {
     "name": "stderr",
     "output_type": "stream",
     "text": [
      "C:\\Users\\Asia\\Anaconda3\\lib\\site-packages\\ipykernel_launcher.py:41: RuntimeWarning: overflow encountered in double_scalars\n",
      "C:\\Users\\Asia\\Anaconda3\\lib\\site-packages\\ipykernel_launcher.py:42: RuntimeWarning: overflow encountered in double_scalars\n",
      "C:\\Users\\Asia\\Anaconda3\\lib\\site-packages\\ipykernel_launcher.py:59: RuntimeWarning: overflow encountered in matmul\n",
      "C:\\Users\\Asia\\Anaconda3\\lib\\site-packages\\ipykernel_launcher.py:70: RuntimeWarning: invalid value encountered in subtract\n",
      "C:\\Users\\Asia\\Anaconda3\\lib\\site-packages\\ipykernel_launcher.py:59: RuntimeWarning: invalid value encountered in matmul\n",
      "C:\\Users\\Asia\\Anaconda3\\lib\\site-packages\\ipykernel_launcher.py:59: RuntimeWarning: invalid value encountered in multiply\n",
      "C:\\Users\\Asia\\Anaconda3\\lib\\site-packages\\ipykernel_launcher.py:41: RuntimeWarning: invalid value encountered in matmul\n",
      "C:\\Users\\Asia\\Anaconda3\\lib\\site-packages\\numpy\\core\\_methods.py:151: RuntimeWarning: overflow encountered in reduce\n",
      "  ret = umr_sum(arr, axis, dtype, out, keepdims)\n"
     ]
    },
    {
     "data": {
      "text/plain": [
       "<matplotlib.legend.Legend at 0x1e3320d8ba8>"
      ]
     },
     "execution_count": 29,
     "metadata": {},
     "output_type": "execute_result"
    },
    {
     "data": {
      "image/png": "[encoded data removed]",
      "text/plain": [
       "<Figure size 432x288 with 1 Axes>"
      ]
     },
     "metadata": {
      "needs_background": "light"
     },
     "output_type": "display_data"
    }
   ],
   "source": [
    "alpha = [0.01, 0.05, 0.1]\n",
    "N = 50\n",
    "fig = plt.figure()\n",
    "for  a in alpha:\n",
    "    loss = []\n",
    "    clf1 = MySGDClassifier(batch_generator, model_type='lin_reg', alpha=a)\n",
    "    clf1.fit(X, y)\n",
    "    i = 0\n",
    "    loss = list([np.mean(clf1.errors_log['loss'][i * N : (i + 1) * N]) for i in range(len(clf1.errors_log['loss']) // N)])\n",
    "    plt.plot(np.arange(len(loss)), loss, label='alpha={}'.format(a))\n",
    "    loss.clear()\n",
    "plt.legend()\n",
    "     \n",
    "     "
   ]
  },
  {
   "cell_type": "markdown",
   "metadata": {},
   "source": [
    "Что Вы можете сказать про сходимость метода при различных `alpha`? Какое значение стоит выбирать для лучшей сходимости?"
   ]
  },
  {
   "cell_type": "markdown",
   "metadata": {},
   "source": [
    "При больших $\\alpha$ метод градиентного спуска не сходится (средние значения функции потерь меняются)."
   ]
  },
  {
   "cell_type": "markdown",
   "metadata": {},
   "source": [
    "Изобразите график среднего значения весов для обеих регрессий в зависимости от коеф. регуляризации С из `np.logspace(3, -3, 10)` "
   ]
  },
  {
   "cell_type": "code",
   "execution_count": 44,
   "metadata": {},
   "outputs": [
    {
     "name": "stderr",
     "output_type": "stream",
     "text": [
      "C:\\Users\\Asia\\Anaconda3\\lib\\site-packages\\ipykernel_launcher.py:44: RuntimeWarning: overflow encountered in double_scalars\n",
      "C:\\Users\\Asia\\Anaconda3\\lib\\site-packages\\ipykernel_launcher.py:43: RuntimeWarning: overflow encountered in double_scalars\n",
      "C:\\Users\\Asia\\Anaconda3\\lib\\site-packages\\ipykernel_launcher.py:61: RuntimeWarning: overflow encountered in true_divide\n",
      "C:\\Users\\Asia\\Anaconda3\\lib\\site-packages\\ipykernel_launcher.py:61: RuntimeWarning: invalid value encountered in matmul\n",
      "C:\\Users\\Asia\\Anaconda3\\lib\\site-packages\\ipykernel_launcher.py:43: RuntimeWarning: invalid value encountered in matmul\n"
     ]
    },
    {
     "data": {
      "text/plain": [
       "Text(0.5, 1.0, 'Средние веса для линейной регрессии')"
      ]
     },
     "execution_count": 44,
     "metadata": {},
     "output_type": "execute_result"
    },
    {
     "data": {
      "image/png": "[encoded data removed]",
      "text/plain": [
       "<Figure size 432x288 with 1 Axes>"
      ]
     },
     "metadata": {
      "needs_background": "light"
     },
     "output_type": "display_data"
    }
   ],
   "source": [
    "a = 0.01\n",
    "my_weights = []\n",
    "for c in np.logspace(3, -3, 10):\n",
    "    \n",
    "    clf1 = MySGDClassifier(batch_generator, C=c, model_type='lin_reg', alpha=a)\n",
    "    clf1.fit(X, y)\n",
    "    my_weights.append(clf1.weights.mean())\n",
    "    \n",
    "plt.plot(np.logspace(3, -3, 10), my_weights)\n",
    "plt.title(\"Средние веса для линейной регрессии\")  "
   ]
  },
  {
   "cell_type": "code",
   "execution_count": 45,
   "metadata": {},
   "outputs": [
    {
     "name": "stderr",
     "output_type": "stream",
     "text": [
      "C:\\Users\\Asia\\Anaconda3\\lib\\site-packages\\ipykernel_launcher.py:47: RuntimeWarning: divide by zero encountered in log\n",
      "C:\\Users\\Asia\\Anaconda3\\lib\\site-packages\\ipykernel_launcher.py:47: RuntimeWarning: invalid value encountered in multiply\n",
      "C:\\Users\\Asia\\Anaconda3\\lib\\site-packages\\ipykernel_launcher.py:9: RuntimeWarning: overflow encountered in exp\n",
      "  if __name__ == '__main__':\n",
      "C:\\Users\\Asia\\Anaconda3\\lib\\site-packages\\ipykernel_launcher.py:48: RuntimeWarning: overflow encountered in double_scalars\n",
      "C:\\Users\\Asia\\Anaconda3\\lib\\site-packages\\ipykernel_launcher.py:64: RuntimeWarning: overflow encountered in true_divide\n",
      "C:\\Users\\Asia\\Anaconda3\\lib\\site-packages\\ipykernel_launcher.py:63: RuntimeWarning: invalid value encountered in matmul\n",
      "C:\\Users\\Asia\\Anaconda3\\lib\\site-packages\\ipykernel_launcher.py:46: RuntimeWarning: invalid value encountered in matmul\n"
     ]
    },
    {
     "data": {
      "text/plain": [
       "Text(0.5, 1.0, 'Средние веса для логистической регрессии')"
      ]
     },
     "execution_count": 45,
     "metadata": {},
     "output_type": "execute_result"
    },
    {
     "data": {
      "image/png": "[encoded data removed]",
      "text/plain": [
       "<Figure size 432x288 with 1 Axes>"
      ]
     },
     "metadata": {
      "needs_background": "light"
     },
     "output_type": "display_data"
    }
   ],
   "source": [
    "a = 0.01\n",
    "my_weights = []\n",
    "for c in np.logspace(3, -3, 10):\n",
    "    \n",
    "    clf1 = MySGDClassifier(batch_generator, C=c, model_type='log_reg', alpha=a)\n",
    "    clf1.fit(X, y)\n",
    "    my_weights.append(clf1.weights.mean())\n",
    "    \n",
    "plt.plot(np.logspace(3, -3, 10), my_weights)\n",
    "plt.title(\"Средние веса для логистической регрессии\") "
   ]
  },
  {
   "cell_type": "markdown",
   "metadata": {},
   "source": [
    "Довольны ли Вы, насколько сильно уменьшились Ваши веса? "
   ]
  },
  {
   "cell_type": "markdown",
   "metadata": {},
   "source": [
    "# Боевое применение (3  балла)"
   ]
  },
  {
   "cell_type": "markdown",
   "metadata": {},
   "source": [
    "Давайте применим модель на итоговом проекте! Датасет сделаем точно таким же образом, как было показано в project_overview.ipynb\n",
    "\n",
    "Применим обе регрессии, подберем для них параметры и сравним качество. Может быть Вы еще одновременно с решением домашней работы подрастете на лидерборде!"
   ]
  },
  {
   "cell_type": "code",
   "execution_count": 41,
   "metadata": {},
   "outputs": [],
   "source": [
    "doc_to_title = {}\n",
    "with open('docs_titles.tsv', encoding='utf-8') as f:\n",
    "    for num_line, line in enumerate(f):\n",
    "        if num_line == 0:\n",
    "            continue\n",
    "        data = line.strip().split('\\t', 1)\n",
    "        doc_id = int(data[0])\n",
    "        if len(data) == 1:\n",
    "            title = ''\n",
    "        else:\n",
    "            title = data[1]\n",
    "        doc_to_title[doc_id] = title\n",
    "print (len(doc_to_title))\n"
   ]
  },
  {
   "cell_type": "code",
   "execution_count": 42,
   "metadata": {},
   "outputs": [],
   "source": [
    "import pandas as pd\n",
    "train_data = pd.read_csv('train_groups.csv')\n",
    "traingroups_titledata = {}\n",
    "for i in range(len(train_data)):\n",
    "    new_doc = train_data.iloc[i]\n",
    "    doc_group = new_doc['group_id']\n",
    "    doc_id = new_doc['doc_id']\n",
    "    target = new_doc['target']\n",
    "    title = doc_to_title[doc_id]\n",
    "    if doc_group not in traingroups_titledata:\n",
    "        traingroups_titledata[doc_group] = []\n",
    "    traingroups_titledata[doc_group].append((doc_id, title, target))"
   ]
  },
  {
   "cell_type": "code",
   "execution_count": 43,
   "metadata": {},
   "outputs": [],
   "source": [
    "import numpy as np\n",
    "y_train = []\n",
    "X_train = []\n",
    "groups_train = []\n",
    "for new_group in traingroups_titledata:\n",
    "    docs = traingroups_titledata[new_group]\n",
    "    for k, (doc_id, title, target_id) in enumerate(docs):\n",
    "        y_train.append(target_id)\n",
    "        groups_train.append(new_group)\n",
    "        all_dist = []\n",
    "        words = set(title.strip().split())\n",
    "        for j in range(0, len(docs)):\n",
    "            if k == j:\n",
    "                continue\n",
    "            doc_id_j, title_j, target_j = docs[j]\n",
    "            words_j = set(title_j.strip().split())\n",
    "            all_dist.append(len(words.intersection(words_j)))\n",
    "        X_train.append(sorted(all_dist, reverse=True)[0:15]    )\n",
    "X_train = np.array(X_train)\n",
    "y_train = np.array(y_train)\n",
    "groups_train = np.array(groups_train)\n",
    "print (X_train.shape, y_train.shape, groups_train.shape)"
   ]
  },
  {
   "cell_type": "code",
   "execution_count": 44,
   "metadata": {},
   "outputs": [],
   "source": [
    "test_data = pd.read_csv('test_groups.csv')\n",
    "testgroups_titledata = {}\n",
    "for i in range(len(test_data)):\n",
    "    new_doc = test_data.iloc[i]\n",
    "    doc_group = new_doc['group_id']\n",
    "    doc_id = new_doc['doc_id']\n",
    "    pair_id = new_doc['pair_id']\n",
    "    title = doc_to_title[doc_id]\n",
    "    if doc_group not in testgroups_titledata:\n",
    "        testgroups_titledata[doc_group] = []\n",
    "    testgroups_titledata[doc_group].append((doc_id, title, pair_id))\n",
    "X_test = []\n",
    "pair_ids=set()\n",
    "groups_test = []\n",
    "for new_group in testgroups_titledata:\n",
    "    docs = testgroups_titledata[new_group]\n",
    "    for k, (doc_id, title_j, pair_id) in enumerate(docs):\n",
    "        groups_test.append(new_group)\n",
    "        all_dist = []\n",
    "        words = set(title.strip().split())\n",
    "        for j in range(0, len(docs)):\n",
    "            if k == j:\n",
    "                continue\n",
    "            doc_id_j, title_j, pair_id = docs[j]\n",
    "            pair_ids.add(pair_id)\n",
    "            words_j = set(title_j.strip().split())\n",
    "            all_dist.append(len(words.intersection(words_j)))\n",
    "        X_test.append(sorted(all_dist, reverse=True)[0:15]    )\n",
    "X_test = np.array(X_test)\n",
    "pair_ids=np.array(list(pair_ids))\n",
    "groups_test = np.array(groups_test)\n",
    "print (X_test.shape, groups_test.shape)"
   ]
  },
  {
   "cell_type": "code",
   "execution_count": 45,
   "metadata": {},
   "outputs": [],
   "source": [
    "_, num = np.unique(np.array(groups_train), return_counts=True)"
   ]
  },
  {
   "cell_type": "markdown",
   "metadata": {},
   "source": [
    "Подберите размер батча для обучения. Линейная модель не должна учиться дольше нескольких минут. \n",
    "\n",
    "Не забывайте использовать скейлер!"
   ]
  },
  {
   "cell_type": "code",
   "execution_count": 46,
   "metadata": {},
   "outputs": [],
   "source": [
    "from sklearn.metrics import f1_score\n",
    "from sklearn.linear_model import LinearRegression\n",
    "from sklearn.preprocessing import StandardScaler\n",
    "from sklearn.model_selection import train_test_split"
   ]
  },
  {
   "cell_type": "code",
   "execution_count": 47,
   "metadata": {},
   "outputs": [],
   "source": [
    "x_train = StandardScaler().fit_transform(X_train)"
   ]
  },
  {
   "cell_type": "code",
   "execution_count": 48,
   "metadata": {},
   "outputs": [
    {
     "data": {
      "text/plain": [
       "((8125, 15), (8125,), (3565, 15), (3565,))"
      ]
     },
     "execution_count": 48,
     "metadata": {},
     "output_type": "execute_result"
    }
   ],
   "source": [
    "j = 0;\n",
    "for i in range(len(num)):\n",
    "    \n",
    "    x1, x2, y1, y2=train_test_split(x_train[j : j + num[i], :], y_train[j : j + num[i]], test_size=0.3, shuffle=False)\n",
    "    if i == 0:\n",
    "        x_train1 = x1\n",
    "        y_train1 = y1\n",
    "        x_test1 = x2\n",
    "        y_test1 = y2\n",
    "    else:\n",
    "        x_train1 = np.concatenate((x_train1, x1), axis=0)\n",
    "        y_train1 = np.concatenate((y_train1, y1), axis=0)\n",
    "        x_test1 = np.concatenate((x_test1, x2), axis=0)\n",
    "        y_test1 = np.concatenate((y_test1, y2), axis=0)\n",
    "    j += num[i]\n",
    "\n",
    "x_train1.shape, y_train1.shape, x_test1.shape, y_test1.shape"
   ]
  },
  {
   "cell_type": "markdown",
   "metadata": {},
   "source": [
    "Разбейте данные на обучение и валидацию. Подберите параметры C, alpha, max_epoch, model_type на валидации (Вы же помните, как правильно в этой задаче делать валидацию?)"
   ]
  },
  {
   "cell_type": "code",
   "execution_count": 26,
   "metadata": {},
   "outputs": [
    {
     "name": "stderr",
     "output_type": "stream",
     "text": [
      "C:\\Users\\Asia\\Anaconda3\\lib\\site-packages\\ipykernel_launcher.py:47: RuntimeWarning: divide by zero encountered in log\n",
      "C:\\Users\\Asia\\Anaconda3\\lib\\site-packages\\ipykernel_launcher.py:47: RuntimeWarning: invalid value encountered in multiply\n"
     ]
    },
    {
     "name": "stdout",
     "output_type": "stream",
     "text": [
      "f1_score 0.6259858862598588 1e-05 1 5 1\n",
      "f1_score 0.629147417051659 1e-05 1 5 50\n",
      "f1_score 0.6097738876732312 1e-05 1 5 100\n",
      "f1_score 0.6149752945648044 1e-05 1 5 500\n",
      "f1_score 0.6223832528180355 1e-05 1 5 1000\n",
      "f1_score 0.6329225352112675 1e-05 1 15 1\n",
      "f1_score 0.5036880927291887 1e-05 1 15 50\n",
      "f1_score 0.5067873303167421 1e-05 1 15 100\n",
      "f1_score 0.6245443499392466 1e-05 1 15 500\n",
      "f1_score 0.6084751901484968 1e-05 1 15 1000\n",
      "f1_score 0.6106463878326996 1e-05 1 20 1\n",
      "f1_score 0.5977011494252874 1e-05 1 20 50\n",
      "f1_score 0.6250516742455561 1e-05 1 20 100\n",
      "f1_score 0.5927197802197802 1e-05 1 20 500\n",
      "f1_score 0.6147783251231528 1e-05 1 20 1000\n",
      "f1_score 0.6274343776460627 1e-05 50 5 1\n",
      "f1_score 0.6302521008403361 1e-05 50 5 50\n",
      "f1_score 0.6257521058965101 1e-05 50 5 100\n",
      "f1_score 0.6180257510729613 1e-05 50 5 500\n",
      "f1_score 0.6220133176654916 1e-05 50 5 1000\n",
      "f1_score 0.6211031175059952 1e-05 50 15 1\n",
      "f1_score 0.6215678471945882 1e-05 50 15 50\n",
      "f1_score 0.620716211012707 1e-05 50 15 100\n",
      "f1_score 0.624390243902439 1e-05 50 15 500\n",
      "f1_score 0.6273062730627307 1e-05 50 15 1000\n",
      "f1_score 0.6252059308072487 1e-05 50 20 1\n",
      "f1_score 0.6258278145695365 1e-05 50 20 50\n",
      "f1_score 0.6238455079764903 1e-05 50 20 100\n",
      "f1_score 0.6262386048355132 1e-05 50 20 500\n",
      "f1_score 0.6089530151683314 1e-05 50 20 1000\n",
      "f1_score 0.6221511395441823 1e-05 100 5 1\n",
      "f1_score 0.6236644242184408 1e-05 100 5 50\n",
      "f1_score 0.6242138364779874 1e-05 100 5 100\n",
      "f1_score 0.6295054484492875 1e-05 100 5 500\n",
      "f1_score 0.6220285261489699 1e-05 100 5 1000\n",
      "f1_score 0.6254458977407847 1e-05 100 15 1\n",
      "f1_score 0.6287653797199829 1e-05 100 15 50\n",
      "f1_score 0.629737609329446 1e-05 100 15 100\n",
      "f1_score 0.6204379562043796 1e-05 100 15 500\n",
      "f1_score 0.625 1e-05 100 15 1000\n",
      "f1_score 0.6202531645569619 1e-05 100 20 1\n",
      "f1_score 0.6292417260159197 1e-05 100 20 50\n",
      "f1_score 0.6158730158730159 1e-05 100 20 100\n",
      "f1_score 0.624842105263158 1e-05 100 20 500\n",
      "f1_score 0.6251980982567352 1e-05 100 20 1000\n",
      "f1_score 0.6279264214046822 1e-05 500 5 1\n",
      "f1_score 0.6251005631536605 1e-05 500 5 50\n",
      "f1_score 0.6215139442231076 1e-05 500 5 100\n",
      "f1_score 0.6191759722757026 1e-05 500 5 500\n",
      "f1_score 0.6155044799376703 1e-05 500 5 1000\n",
      "f1_score 0.6258223684210527 1e-05 500 15 1\n",
      "f1_score 0.625503355704698 1e-05 500 15 50\n",
      "f1_score 0.62873999157185 1e-05 500 15 100\n",
      "f1_score 0.6207719856744925 1e-05 500 15 500\n",
      "f1_score 0.6264210113680908 1e-05 500 15 1000\n",
      "f1_score 0.627228525121556 1e-05 500 20 1\n",
      "f1_score 0.6177487514406454 1e-05 500 20 50\n",
      "f1_score 0.6306149149585696 1e-05 500 20 100\n",
      "f1_score 0.6067848882035467 1e-05 500 20 500\n",
      "f1_score 0.6265745631856969 1e-05 500 20 1000\n",
      "f1_score 0.6253687315634218 1e-05 1000 5 1\n",
      "f1_score 0.6264462809917355 1e-05 1000 5 50\n",
      "f1_score 0.6206621459912246 1e-05 1000 5 100\n",
      "f1_score 0.6253041362530413 1e-05 1000 5 500\n",
      "f1_score 0.6216867469879518 1e-05 1000 5 1000\n",
      "f1_score 0.622062923138192 1e-05 1000 15 1\n",
      "f1_score 0.6244417377182298 1e-05 1000 15 50\n",
      "f1_score 0.6102997694081476 1e-05 1000 15 100\n",
      "f1_score 0.6087962962962963 1e-05 1000 15 500\n",
      "f1_score 0.6230143355288648 1e-05 1000 15 1000\n",
      "f1_score 0.622695616550594 1e-05 1000 20 1\n",
      "f1_score 0.6258669930640556 1e-05 1000 20 50\n",
      "f1_score 0.6258223684210527 1e-05 1000 20 100\n",
      "f1_score 0.6205774705164702 1e-05 1000 20 500\n",
      "f1_score 0.6195524146054181 1e-05 1000 20 1000\n",
      "f1_score 0.6208283071974267 1e-05 5000 5 1\n",
      "f1_score 0.6276819520403871 1e-05 5000 5 50\n",
      "f1_score 0.6259289843104872 1e-05 5000 5 100\n",
      "f1_score 0.6262295081967213 1e-05 5000 5 500\n",
      "f1_score 0.6268282490597576 1e-05 5000 5 1000\n",
      "f1_score 0.6249501793543244 1e-05 5000 15 1\n",
      "f1_score 0.6269278866194248 1e-05 5000 15 50\n",
      "f1_score 0.621011673151751 1e-05 5000 15 100\n",
      "f1_score 0.6221701795472289 1e-05 5000 15 500\n",
      "f1_score 0.6256751142501038 1e-05 5000 15 1000\n",
      "f1_score 0.6286193873268989 1e-05 5000 20 1\n",
      "f1_score 0.6183420104124949 1e-05 5000 20 50\n",
      "f1_score 0.6220815195884447 1e-05 5000 20 100\n",
      "f1_score 0.6276150627615064 1e-05 5000 20 500\n",
      "f1_score 0.6213063763608088 1e-05 5000 20 1000\n",
      "f1_score 0.5847362514029181 0.0001 1 5 1\n",
      "f1_score 0.549609140108238 0.0001 1 5 50\n",
      "f1_score 0.5984 0.0001 1 5 100\n",
      "f1_score 0.5806451612903226 0.0001 1 5 500\n",
      "f1_score 0.6134411318847903 0.0001 1 5 1000\n",
      "f1_score 0.4445983379501385 0.0001 1 15 1\n",
      "f1_score 0.4287729196050776 0.0001 1 15 50\n",
      "f1_score 0.4445983379501385 0.0001 1 15 100\n",
      "f1_score 0.44567474048442907 0.0001 1 15 500\n",
      "f1_score 0.4381084840055633 0.0001 1 15 1000\n",
      "f1_score 0.4005784526391902 0.0001 1 20 1\n",
      "f1_score 0.39710144927536234 0.0001 1 20 50\n",
      "f1_score 0.41206030150753764 0.0001 1 20 100\n",
      "f1_score 0.39738941261783906 0.0001 1 20 500\n",
      "f1_score 0.411764705882353 0.0001 1 20 1000\n",
      "f1_score 0.6255144032921811 0.0001 50 5 1\n",
      "f1_score 0.6208869814020029 0.0001 50 5 50\n",
      "f1_score 0.621268656716418 0.0001 50 5 100\n",
      "f1_score 0.6079085278704146 0.0001 50 5 500\n",
      "f1_score 0.634849167041873 0.0001 50 5 1000\n",
      "f1_score 0.5527099463966647 0.0001 50 15 1\n",
      "f1_score 0.5586328815556866 0.0001 50 15 50\n",
      "f1_score 0.5648584905660378 0.0001 50 15 100\n",
      "f1_score 0.5487364620938628 0.0001 50 15 500\n",
      "f1_score 0.5506555423122765 0.0001 50 15 1000\n",
      "f1_score 0.5567375886524822 0.0001 50 20 1\n",
      "f1_score 0.5335775335775336 0.0001 50 20 50\n",
      "f1_score 0.538647342995169 0.0001 50 20 100\n",
      "f1_score 0.5584415584415584 0.0001 50 20 500\n",
      "f1_score 0.5550239234449761 0.0001 50 20 1000\n",
      "f1_score 0.6290598290598292 0.0001 100 5 1\n",
      "f1_score 0.6246487354476113 0.0001 100 5 50\n",
      "f1_score 0.6285460992907802 0.0001 100 5 100\n",
      "f1_score 0.6176602420439264 0.0001 100 5 500\n",
      "f1_score 0.63059866962306 0.0001 100 5 1000\n",
      "f1_score 0.5513513513513513 0.0001 100 15 1\n",
      "f1_score 0.5574148874783612 0.0001 100 15 50\n",
      "f1_score 0.5609467455621302 0.0001 100 15 100\n",
      "f1_score 0.5662790697674418 0.0001 100 15 500\n",
      "f1_score 0.5587188612099644 0.0001 100 15 1000\n",
      "f1_score 0.551475015051174 0.0001 100 20 1\n",
      "f1_score 0.5455635491606714 0.0001 100 20 50\n",
      "f1_score 0.5587714116952156 0.0001 100 20 100\n",
      "f1_score 0.5443645083932854 0.0001 100 20 500\n",
      "f1_score 0.5455642727821364 0.0001 100 20 1000\n",
      "f1_score 0.6096096096096096 0.0001 500 5 1\n",
      "f1_score 0.6146458583433373 0.0001 500 5 50\n",
      "f1_score 0.6229228802726886 0.0001 500 5 100\n",
      "f1_score 0.6234967622571693 0.0001 500 5 500\n",
      "f1_score 0.6220905628438426 0.0001 500 5 1000\n",
      "f1_score 0.5619546247818499 0.0001 500 15 1\n",
      "f1_score 0.568935427574171 0.0001 500 15 50\n",
      "f1_score 0.568445475638051 0.0001 500 15 100\n",
      "f1_score 0.5556872037914692 0.0001 500 15 500\n",
      "f1_score 0.5764770844837107 0.0001 500 15 1000\n",
      "f1_score 0.5437239738251041 0.0001 500 20 1\n",
      "f1_score 0.5476477683956574 0.0001 500 20 50\n",
      "f1_score 0.5502709211318483 0.0001 500 20 100\n",
      "f1_score 0.550359712230216 0.0001 500 20 500\n",
      "f1_score 0.5526315789473685 0.0001 500 20 1000\n",
      "f1_score 0.6240362811791383 0.0001 1000 5 1\n",
      "f1_score 0.6266605588639487 0.0001 1000 5 50\n",
      "f1_score 0.6065420560747664 0.0001 1000 5 100\n",
      "f1_score 0.6211453744493393 0.0001 1000 5 500\n",
      "f1_score 0.6237852845904674 0.0001 1000 5 1000\n",
      "f1_score 0.5551558752997602 0.0001 1000 15 1\n",
      "f1_score 0.5667828106852496 0.0001 1000 15 50\n",
      "f1_score 0.5660818713450292 0.0001 1000 15 100\n",
      "f1_score 0.5765969474279254 0.0001 1000 15 500\n",
      "f1_score 0.570290267501423 0.0001 1000 15 1000\n",
      "f1_score 0.5432692307692307 0.0001 1000 20 1\n",
      "f1_score 0.5533691115086464 0.0001 1000 20 50\n",
      "f1_score 0.5473300970873787 0.0001 1000 20 100\n",
      "f1_score 0.546103509815586 0.0001 1000 20 500\n",
      "f1_score 0.5490196078431373 0.0001 1000 20 1000\n",
      "f1_score 0.6222014925373135 0.0001 5000 5 1\n",
      "f1_score 0.6273858921161826 0.0001 5000 5 50\n",
      "f1_score 0.6167800453514739 0.0001 5000 5 100\n",
      "f1_score 0.6332737030411449 0.0001 5000 5 500\n",
      "f1_score 0.6225713104588672 0.0001 5000 5 1000\n",
      "f1_score 0.571921749136939 0.0001 5000 15 1\n",
      "f1_score 0.5677719604421174 0.0001 5000 15 50\n",
      "f1_score 0.5763097949886106 0.0001 5000 15 100\n",
      "f1_score 0.5776780706674145 0.0001 5000 15 500\n",
      "f1_score 0.5626450116009281 0.0001 5000 15 1000\n",
      "f1_score 0.5578635014836796 0.0001 5000 20 1\n",
      "f1_score 0.5529411764705883 0.0001 5000 20 50\n",
      "f1_score 0.5622065727699531 0.0001 5000 20 100\n",
      "f1_score 0.5507765830346476 0.0001 5000 20 500\n",
      "f1_score 0.5525383707201889 0.0001 5000 20 1000\n",
      "f1_score 0.5170239596469105 0.01 1 5 1\n",
      "f1_score 0.3182527301092044 0.01 1 5 50\n",
      "f1_score 0.4756828780812791 0.01 1 5 100\n",
      "f1_score 0.3593984962406015 0.01 1 5 500\n",
      "f1_score 0.46321525885558584 0.01 1 5 1000\n",
      "f1_score 0.4051910598413843 0.01 1 15 1\n"
     ]
    },
    {
     "name": "stdout",
     "output_type": "stream",
     "text": [
      "f1_score 0.46206425153793584 0.01 1 15 50\n",
      "f1_score 0.013618677042801557 0.01 1 15 100\n",
      "f1_score 0.4182726623840114 0.01 1 15 500\n",
      "f1_score 0.4106245513280689 0.01 1 15 1000\n",
      "f1_score 0.34146341463414637 0.01 1 20 1\n",
      "f1_score 0.23185988323603002 0.01 1 20 50\n",
      "f1_score 0.4638472032742156 0.01 1 20 100\n",
      "f1_score 0.14642857142857144 0.01 1 20 500\n",
      "f1_score 0.011684518013631937 0.01 1 20 1000\n",
      "f1_score 0.5388349514563108 0.01 50 5 1\n",
      "f1_score 0.5401812688821752 0.01 50 5 50\n",
      "f1_score 0.5354523227383864 0.01 50 5 100\n",
      "f1_score 0.19393939393939394 0.01 50 5 500\n",
      "f1_score 0.5269683818970862 0.01 50 5 1000\n",
      "f1_score 0.5707656612529002 0.01 50 15 1\n",
      "f1_score 0.5353846153846155 0.01 50 15 50\n",
      "f1_score 0.4593301435406698 0.01 50 15 100\n",
      "f1_score 0.49246889325474785 0.01 50 15 500\n",
      "f1_score 0.5720823798627002 0.01 50 15 1000\n",
      "f1_score 0.4813333333333334 0.01 50 20 1\n",
      "f1_score 0.5323475046210722 0.01 50 20 50\n",
      "f1_score 0.5067524115755627 0.01 50 20 100\n",
      "f1_score 0.5160883280757098 0.01 50 20 500\n",
      "f1_score 0.5534967124925284 0.01 50 20 1000\n",
      "f1_score 0.5294482331060136 0.01 100 5 1\n",
      "f1_score 0.5096030729833546 0.01 100 5 50\n",
      "f1_score 0.568408690546095 0.01 100 5 100\n",
      "f1_score 0.4910655195234943 0.01 100 5 500\n",
      "f1_score 0.5209768315591734 0.01 100 5 1000\n",
      "f1_score 0.5783132530120482 0.01 100 15 1\n",
      "f1_score 0.512040557667934 0.01 100 15 50\n",
      "f1_score 0.5318627450980392 0.01 100 15 100\n",
      "f1_score 0.5303867403314917 0.01 100 15 500\n",
      "f1_score 0.4232365145228215 0.01 100 15 1000\n",
      "f1_score 0.5672342924251321 0.01 100 20 1\n",
      "f1_score 0.4897689768976897 0.01 100 20 50\n",
      "f1_score 0.5694363742010459 0.01 100 20 100\n",
      "f1_score 0.5912087912087912 0.01 100 20 500\n",
      "f1_score 0.48226018396846254 0.01 100 20 1000\n",
      "f1_score 0.5616519174041298 0.01 500 5 1\n",
      "f1_score 0.5420219244823387 0.01 500 5 50\n",
      "f1_score 0.5928725701943844 0.01 500 5 100\n",
      "f1_score 0.5621685327047731 0.01 500 5 500\n",
      "f1_score 0.5867261572783045 0.01 500 5 1000\n",
      "f1_score 0.5467712733856367 0.01 500 15 1\n",
      "f1_score 0.4789297658862876 0.01 500 15 50\n",
      "f1_score 0.3728301886792453 0.01 500 15 100\n",
      "f1_score 0.47644683714670255 0.01 500 15 500\n",
      "f1_score 0.5896724042198779 0.01 500 15 1000\n",
      "f1_score 0.5750431282346177 0.01 500 20 1\n",
      "f1_score 0.5254027261462206 0.01 500 20 50\n",
      "f1_score 0.44383184011026877 0.01 500 20 100\n",
      "f1_score 0.4251412429378531 0.01 500 20 500\n",
      "f1_score 0.557919621749409 0.01 500 20 1000\n",
      "f1_score 0.5064599483204135 0.01 1000 5 1\n",
      "f1_score 0.49410222804718223 0.01 1000 5 50\n",
      "f1_score 0.48719632304661853 0.01 1000 5 100\n",
      "f1_score 0.5704387990762126 0.01 1000 5 500\n",
      "f1_score 0.4542974079126876 0.01 1000 5 1000\n",
      "f1_score 0.5173940543959519 0.01 1000 15 1\n",
      "f1_score 0.5674255691768826 0.01 1000 15 50\n",
      "f1_score 0.5699481865284974 0.01 1000 15 100\n",
      "f1_score 0.5180493983533883 0.01 1000 15 500\n",
      "f1_score 0.5323475046210722 0.01 1000 15 1000\n",
      "f1_score 0.5366748166259169 0.01 1000 20 1\n",
      "f1_score 0.5840312674483529 0.01 1000 20 50\n",
      "f1_score 0.5123652504755866 0.01 1000 20 100\n",
      "f1_score 0.5562130177514792 0.01 1000 20 500\n",
      "f1_score 0.5341463414634148 0.01 1000 20 1000\n",
      "f1_score 0.3953318745441284 0.01 5000 5 1\n",
      "f1_score 0.5358675659104845 0.01 5000 5 50\n",
      "f1_score 0.5293398533007335 0.01 5000 5 100\n",
      "f1_score 0.5357575757575758 0.01 5000 5 500\n",
      "f1_score 0.5041480536056159 0.01 5000 5 1000\n",
      "f1_score 0.5359317904993911 0.01 5000 15 1\n",
      "f1_score 0.49372937293729374 0.01 5000 15 50\n",
      "f1_score 0.5374771480804388 0.01 5000 15 100\n",
      "f1_score 0.5577830188679246 0.01 5000 15 500\n",
      "f1_score 0.5507765830346476 0.01 5000 15 1000\n",
      "f1_score 0.5814084507042253 0.01 5000 20 1\n",
      "f1_score 0.5245494095711623 0.01 5000 20 50\n",
      "f1_score 0.47889182058047486 0.01 5000 20 100\n",
      "f1_score 0.5479782739891371 0.01 5000 20 500\n",
      "f1_score 0.5012953367875647 0.01 5000 20 1000\n",
      "f1_score 0.48812664907651715 0.05 1 5 1\n",
      "f1_score 0.5796937039137834 0.05 1 5 50\n",
      "f1_score 0.5260545905707196 0.05 1 5 100\n",
      "f1_score 0.29119999999999996 0.05 1 5 500\n"
     ]
    },
    {
     "name": "stderr",
     "output_type": "stream",
     "text": [
      "C:\\Users\\Asia\\Anaconda3\\lib\\site-packages\\sklearn\\metrics\\classification.py:1437: UndefinedMetricWarning: F-score is ill-defined and being set to 0.0 due to no predicted samples.\n",
      "  'precision', 'predicted', average, warn_for)\n"
     ]
    },
    {
     "name": "stdout",
     "output_type": "stream",
     "text": [
      "f1_score 0.0 0.05 1 5 1000\n",
      "f1_score 0.5105837075048107 0.05 1 15 1\n",
      "f1_score 0.521356783919598 0.05 1 15 50\n",
      "f1_score 0.3805309734513274 0.05 1 15 100\n",
      "f1_score 0.5130823229100192 0.05 1 15 500\n",
      "f1_score 0.5374771480804388 0.05 1 15 1000\n",
      "f1_score 0.25328947368421056 0.05 1 20 1\n",
      "f1_score 0.5205992509363296 0.05 1 20 50\n",
      "f1_score 0.49113591595535133 0.05 1 20 100\n",
      "f1_score 0.5216300940438872 0.05 1 20 500\n",
      "f1_score 0.5006468305304009 0.05 1 20 1000\n",
      "f1_score 0.5935973955507325 0.05 50 5 1\n",
      "f1_score 0.5939726027397261 0.05 50 5 50\n",
      "f1_score 0.5875706214689266 0.05 50 5 100\n",
      "f1_score 0.5896589658965896 0.05 50 5 500\n",
      "f1_score 0.5025839793281653 0.05 50 5 1000\n",
      "f1_score 0.5593914569923932 0.05 50 15 1\n",
      "f1_score 0.5959978366684695 0.05 50 15 50\n",
      "f1_score 0.15972222222222224 0.05 50 15 100\n",
      "f1_score 0.5955176093916755 0.05 50 15 500\n",
      "f1_score 0.578177727784027 0.05 50 15 1000\n",
      "f1_score 0.0 0.05 50 20 1\n",
      "f1_score 0.6095820591233435 0.05 50 20 50\n",
      "f1_score 0.5911062906724511 0.05 50 20 100\n",
      "f1_score 0.4977139124755062 0.05 50 20 500\n",
      "f1_score 0.5672853828306265 0.05 50 20 1000\n",
      "f1_score 0.5918367346938777 0.05 100 5 1\n",
      "f1_score 0.5961538461538463 0.05 100 5 50\n",
      "f1_score 0.5944206008583691 0.05 100 5 100\n",
      "f1_score 0.528894472361809 0.05 100 5 500\n",
      "f1_score 0.22056384742951907 0.05 100 5 1000\n",
      "f1_score 0.529158993247391 0.05 100 15 1\n",
      "f1_score 0.583050847457627 0.05 100 15 50\n",
      "f1_score 0.6011683483802444 0.05 100 15 100\n",
      "f1_score 0.5832414553472988 0.05 100 15 500\n",
      "f1_score 0.5825352112676055 0.05 100 15 1000\n",
      "f1_score 0.6065573770491803 0.05 100 20 1\n",
      "f1_score 0.5410334346504558 0.05 100 20 50\n",
      "f1_score 0.5158831003811943 0.05 100 20 100\n",
      "f1_score 0.5300613496932516 0.05 100 20 500\n",
      "f1_score 0.5932017543859649 0.05 100 20 1000\n",
      "f1_score 0.5724258289703316 0.05 500 5 1\n",
      "f1_score 0.5929539295392954 0.05 500 5 50\n",
      "f1_score 0.5463239689181113 0.05 500 5 100\n",
      "f1_score 0.5969681129116571 0.05 500 5 500\n",
      "f1_score 0.558926487747958 0.05 500 5 1000\n",
      "f1_score 0.0 0.05 500 15 1\n",
      "f1_score 0.5757052389176741 0.05 500 15 50\n",
      "f1_score 0.29217110573042776 0.05 500 15 100\n",
      "f1_score 0.43293115684882905 0.05 500 15 500\n",
      "f1_score 0.5592417061611373 0.05 500 15 1000\n",
      "f1_score 0.584514721919302 0.05 500 20 1\n",
      "f1_score 0.37339055793991416 0.05 500 20 50\n",
      "f1_score 0.5685279187817259 0.05 500 20 100\n",
      "f1_score 0.5722576900754498 0.05 500 20 500\n",
      "f1_score 0.5586658725431806 0.05 500 20 1000\n",
      "f1_score 0.5192069392812887 0.05 1000 5 1\n",
      "f1_score 0.5733558178752107 0.05 1000 5 50\n",
      "f1_score 0.5541176470588235 0.05 1000 5 100\n",
      "f1_score 0.5844444444444444 0.05 1000 5 500\n",
      "f1_score 0.5019011406844106 0.05 1000 5 1000\n",
      "f1_score 0.591703056768559 0.05 1000 15 1\n",
      "f1_score 0.4542278127183787 0.05 1000 15 50\n",
      "f1_score 0.5892566467715682 0.05 1000 15 100\n",
      "f1_score 0.5051150895140665 0.05 1000 15 500\n",
      "f1_score 0.5032509752925878 0.05 1000 15 1000\n",
      "f1_score 0.04511278195488722 0.05 1000 20 1\n",
      "f1_score 0.5344079355238686 0.05 1000 20 50\n",
      "f1_score 0.5692926969522715 0.05 1000 20 100\n",
      "f1_score 0.5906401291016675 0.05 1000 20 500\n",
      "f1_score 0.5943600867678959 0.05 1000 20 1000\n",
      "f1_score 0.40697674418604646 0.05 5000 5 1\n",
      "f1_score 0.5891891891891892 0.05 5000 5 50\n",
      "f1_score 0.5709362435381964 0.05 5000 5 100\n",
      "f1_score 0.003929273084479371 0.05 5000 5 500\n",
      "f1_score 0.5981210855949896 0.05 5000 5 1000\n",
      "f1_score 0.61667488899852 0.05 5000 15 1\n",
      "f1_score 0.5253918495297806 0.05 5000 15 50\n",
      "f1_score 0.009794319294809012 0.05 5000 15 100\n",
      "f1_score 0.5843179377013964 0.05 5000 15 500\n",
      "f1_score 0.5067524115755627 0.05 5000 15 1000\n",
      "f1_score 0.6019517205957884 0.05 5000 20 1\n",
      "f1_score 0.02904162633107454 0.05 5000 20 50\n",
      "f1_score 0.5666280417149477 0.05 5000 20 100\n",
      "f1_score 0.5424757281553398 0.05 5000 20 500\n",
      "f1_score 0.597186034392913 0.05 5000 20 1000\n"
     ]
    }
   ],
   "source": [
    "al=[0.00001, 0.0001, 0.01, 0.05]\n",
    "Cs=[1, 50, 100, 500, 1000, 5000]\n",
    "epoch=[5, 15, 20]\n",
    "batchs=[1, 50, 100, 500, 1000]\n",
    "features = []\n",
    "for a in al:\n",
    "    for cs in Cs:\n",
    "        for ep in epoch:\n",
    "            for batch in batchs:\n",
    "                myclf = MySGDClassifier(batch_generator, alpha=a, C=cs,max_epoch=ep, model_type='log_reg', batch_size=batch)\n",
    "                myclf.fit(x_train1, y_train1)\n",
    "                features.append((f1_score(y_test1, myclf.predict(x_test1)), a, cs, ep, batch))\n",
    "                print(\"f1_score\",f1_score(y_test1, myclf.predict(x_test1)), a, cs, ep, batch)"
   ]
  },
  {
   "cell_type": "code",
   "execution_count": 27,
   "metadata": {},
   "outputs": [
    {
     "name": "stdout",
     "output_type": "stream",
     "text": [
      "f1_score 0.44356782818321283 1e-05 1 5 1\n",
      "f1_score 0.4441518542901032 1e-05 1 5 50\n",
      "f1_score 0.44637294170004455 1e-05 1 5 100\n",
      "f1_score 0.4451797926318111 1e-05 1 5 500\n",
      "f1_score 0.4840344652812975 1e-05 1 5 1000\n",
      "f1_score 0.4435712726478935 1e-05 1 15 1\n",
      "f1_score 0.4435712726478935 1e-05 1 15 50\n",
      "f1_score 0.4435712726478935 1e-05 1 15 100\n",
      "f1_score 0.4435712726478935 1e-05 1 15 500\n",
      "f1_score 0.4435712726478935 1e-05 1 15 1000\n",
      "f1_score 0.4435712726478935 1e-05 1 20 1\n",
      "f1_score 0.4435712726478935 1e-05 1 20 50\n",
      "f1_score 0.4435712726478935 1e-05 1 20 100\n",
      "f1_score 0.4435712726478935 1e-05 1 20 500\n",
      "f1_score 0.4435712726478935 1e-05 1 20 1000\n",
      "f1_score 0.4419114423498466 1e-05 50 5 1\n",
      "f1_score 0.44069322529822186 1e-05 50 5 50\n",
      "f1_score 0.44400352733686066 1e-05 50 5 100\n",
      "f1_score 0.4457355333488263 1e-05 50 5 500\n",
      "f1_score 0.4404332129963898 1e-05 50 5 1000\n",
      "f1_score 0.44417767106842737 1e-05 50 15 1\n",
      "f1_score 0.4462736373748609 1e-05 50 15 50\n",
      "f1_score 0.448284023668639 1e-05 50 15 100\n",
      "f1_score 0.448292220113852 1e-05 50 15 500\n",
      "f1_score 0.44818304172274565 1e-05 50 15 1000\n",
      "f1_score 0.44653943435272475 1e-05 50 20 1\n",
      "f1_score 0.45326563581813983 1e-05 50 20 50\n",
      "f1_score 0.44518567934178344 1e-05 50 20 100\n",
      "f1_score 0.4823874755381604 1e-05 50 20 500\n",
      "f1_score 0.44852607709750564 1e-05 50 20 1000\n",
      "f1_score 0.4698795180722892 1e-05 100 5 1\n",
      "f1_score 0.4468996617812852 1e-05 100 5 50\n",
      "f1_score 0.4410187667560322 1e-05 100 5 100\n",
      "f1_score 0.47293589423796467 1e-05 100 5 500\n",
      "f1_score 0.4960522733460386 1e-05 100 5 1000\n",
      "f1_score 0.44021868314713575 1e-05 100 15 1\n",
      "f1_score 0.44750593824228024 1e-05 100 15 50\n",
      "f1_score 0.458511142721669 1e-05 100 15 100\n",
      "f1_score 0.44621161917384583 1e-05 100 15 500\n",
      "f1_score 0.4470899470899471 1e-05 100 15 1000\n",
      "f1_score 0.4445467096180395 1e-05 100 20 1\n",
      "f1_score 0.45161290322580644 1e-05 100 20 50\n",
      "f1_score 0.45984176456485254 1e-05 100 20 100\n",
      "f1_score 0.4464583830193179 1e-05 100 20 500\n",
      "f1_score 0.4471580817051509 1e-05 100 20 1000\n",
      "f1_score 0.44576931896354044 1e-05 500 5 1\n",
      "f1_score 0.44468784227820374 1e-05 500 5 50\n",
      "f1_score 0.44356782818321283 1e-05 500 5 100\n",
      "f1_score 0.44005449591280654 1e-05 500 5 500\n",
      "f1_score 0.4420724927729598 1e-05 500 5 1000\n",
      "f1_score 0.4520207721833372 1e-05 500 15 1\n",
      "f1_score 0.4480294998847661 1e-05 500 15 50\n",
      "f1_score 0.4460863541907181 1e-05 500 15 100\n",
      "f1_score 0.4470213733515234 1e-05 500 15 500\n",
      "f1_score 0.4455335263978615 1e-05 500 15 1000\n",
      "f1_score 0.4592074592074592 1e-05 500 20 1\n",
      "f1_score 0.4539304875204106 1e-05 500 20 50\n",
      "f1_score 0.4599286563614744 1e-05 500 20 100\n",
      "f1_score 0.44721373148365856 1e-05 500 20 500\n",
      "f1_score 0.4506977808281858 1e-05 500 20 1000\n",
      "f1_score 0.435302229372558 1e-05 1000 5 1\n",
      "f1_score 0.44637294170004455 1e-05 1000 5 50\n",
      "f1_score 0.4435712726478935 1e-05 1000 5 100\n",
      "f1_score 0.4462663416795922 1e-05 1000 5 500\n",
      "f1_score 0.4435712726478935 1e-05 1000 5 1000\n",
      "f1_score 0.4483604728976132 1e-05 1000 15 1\n",
      "f1_score 0.4833911750123947 1e-05 1000 15 50\n",
      "f1_score 0.45896147403685095 1e-05 1000 15 100\n",
      "f1_score 0.46091899573661765 1e-05 1000 15 500\n",
      "f1_score 0.44279559597893725 1e-05 1000 15 1000\n",
      "f1_score 0.44742729306487694 1e-05 1000 20 1\n",
      "f1_score 0.4516724336793541 1e-05 1000 20 50\n",
      "f1_score 0.4451327433628319 1e-05 1000 20 100\n",
      "f1_score 0.4579374275782155 1e-05 1000 20 500\n",
      "f1_score 0.453255237666141 1e-05 1000 20 1000\n",
      "f1_score 0.49433231960188 1e-05 5000 5 1\n",
      "f1_score 0.4453280318091451 1e-05 5000 5 50\n",
      "f1_score 0.4372044140830268 1e-05 5000 5 100\n",
      "f1_score 0.44266788487894015 1e-05 5000 5 500\n",
      "f1_score 0.4904491481672689 1e-05 5000 5 1000\n",
      "f1_score 0.4494734483531257 1e-05 5000 15 1\n",
      "f1_score 0.4848484848484848 1e-05 5000 15 50\n",
      "f1_score 0.47382261534783643 1e-05 5000 15 100\n",
      "f1_score 0.44663677130044843 1e-05 5000 15 500\n",
      "f1_score 0.4479327879725846 1e-05 5000 15 1000\n",
      "f1_score 0.4464660601819454 1e-05 5000 20 1\n",
      "f1_score 0.44751131221719453 1e-05 5000 20 50\n",
      "f1_score 0.45222196638268475 1e-05 5000 20 100\n",
      "f1_score 0.4533333333333333 1e-05 5000 20 500\n",
      "f1_score 0.4479892159065379 1e-05 5000 20 1000\n",
      "f1_score 0.4435712726478935 0.0001 1 5 1\n",
      "f1_score 0.4435712726478935 0.0001 1 5 50\n",
      "f1_score 0.4435712726478935 0.0001 1 5 100\n",
      "f1_score 0.4435712726478935 0.0001 1 5 500\n",
      "f1_score 0.4435712726478935 0.0001 1 5 1000\n",
      "f1_score 0.4435712726478935 0.0001 1 15 1\n",
      "f1_score 0.4435712726478935 0.0001 1 15 50\n",
      "f1_score 0.4435712726478935 0.0001 1 15 100\n",
      "f1_score 0.4435712726478935 0.0001 1 15 500\n",
      "f1_score 0.4435712726478935 0.0001 1 15 1000\n",
      "f1_score 0.4435712726478935 0.0001 1 20 1\n",
      "f1_score 0.4435712726478935 0.0001 1 20 50\n",
      "f1_score 0.4435712726478935 0.0001 1 20 100\n",
      "f1_score 0.4435712726478935 0.0001 1 20 500\n",
      "f1_score 0.4435712726478935 0.0001 1 20 1000\n",
      "f1_score 0.4488419158983584 0.0001 50 5 1\n",
      "f1_score 0.4561808118081181 0.0001 50 5 50\n",
      "f1_score 0.4435183154200482 0.0001 50 5 100\n",
      "f1_score 0.4453280318091451 0.0001 50 5 500\n",
      "f1_score 0.44291119519252176 0.0001 50 5 1000\n",
      "f1_score 0.4435712726478935 0.0001 50 15 1\n",
      "f1_score 0.4435712726478935 0.0001 50 15 50\n",
      "f1_score 0.4435712726478935 0.0001 50 15 100\n",
      "f1_score 0.4443957968476358 0.0001 50 15 500\n",
      "f1_score 0.44556628621597894 0.0001 50 15 1000\n",
      "f1_score 0.4444444444444445 0.0001 50 20 1\n",
      "f1_score 0.4438128552689112 0.0001 50 20 50\n",
      "f1_score 0.44493102693234066 0.0001 50 20 100\n",
      "f1_score 0.44395892506008305 0.0001 50 20 500\n",
      "f1_score 0.4435712726478935 0.0001 50 20 1000\n",
      "f1_score 0.4498191681735985 0.0001 100 5 1\n",
      "f1_score 0.4491620111731844 0.0001 100 5 50\n",
      "f1_score 0.44385499557913355 0.0001 100 5 100\n",
      "f1_score 0.4443464844610976 0.0001 100 5 500\n",
      "f1_score 0.45028058361391693 0.0001 100 5 1000\n",
      "f1_score 0.4465464144302684 0.0001 100 15 1\n",
      "f1_score 0.4478405315614618 0.0001 100 15 50\n",
      "f1_score 0.4441530054644809 0.0001 100 15 100\n",
      "f1_score 0.44405517845412745 0.0001 100 15 500\n",
      "f1_score 0.45054699709756646 0.0001 100 15 1000\n",
      "f1_score 0.4435712726478935 0.0001 100 20 1\n",
      "f1_score 0.4435712726478935 0.0001 100 20 50\n",
      "f1_score 0.4435712726478935 0.0001 100 20 100\n",
      "f1_score 0.4435712726478935 0.0001 100 20 500\n",
      "f1_score 0.44342507645259943 0.0001 100 20 1000\n",
      "f1_score 0.4470429503035754 0.0001 500 5 1\n",
      "f1_score 0.44700154901526884 0.0001 500 5 50\n",
      "f1_score 0.44828359883329594 0.0001 500 5 100\n",
      "f1_score 0.45944700460829496 0.0001 500 5 500\n",
      "f1_score 0.4585343441304848 0.0001 500 5 1000\n",
      "f1_score 0.44327868852459024 0.0001 500 15 1\n",
      "f1_score 0.4435712726478935 0.0001 500 15 50\n",
      "f1_score 0.44493102693234066 0.0001 500 15 100\n",
      "f1_score 0.4491071428571428 0.0001 500 15 500\n",
      "f1_score 0.4437636761487966 0.0001 500 15 1000\n",
      "f1_score 0.4435712726478935 0.0001 500 20 1\n",
      "f1_score 0.44415243101182655 0.0001 500 20 50\n",
      "f1_score 0.4438128552689112 0.0001 500 20 100\n",
      "f1_score 0.44390885188431195 0.0001 500 20 500\n",
      "f1_score 0.4436681222707423 0.0001 500 20 1000\n",
      "f1_score 0.44657168299198574 0.0001 1000 5 1\n",
      "f1_score 0.4506912442396313 0.0001 1000 5 50\n",
      "f1_score 0.4476534296028881 0.0001 1000 5 100\n",
      "f1_score 0.4479892159065379 0.0001 1000 5 500\n",
      "f1_score 0.4462627156125608 0.0001 1000 5 1000\n",
      "f1_score 0.4453245324532454 0.0001 1000 15 1\n",
      "f1_score 0.44337349397590353 0.0001 1000 15 50\n",
      "f1_score 0.4472686733556299 0.0001 1000 15 100\n",
      "f1_score 0.4436681222707423 0.0001 1000 15 500\n",
      "f1_score 0.4442497261774371 0.0001 1000 15 1000\n",
      "f1_score 0.4447368421052632 0.0001 1000 20 1\n",
      "f1_score 0.44405594405594406 0.0001 1000 20 50\n",
      "f1_score 0.44395892506008305 0.0001 1000 20 100\n",
      "f1_score 0.44395892506008305 0.0001 1000 20 500\n",
      "f1_score 0.4447368421052632 0.0001 1000 20 1000\n",
      "f1_score 0.44682752457551395 0.0001 5000 5 1\n",
      "f1_score 0.4479524136353237 0.0001 5000 5 50\n",
      "f1_score 0.44770153231179216 0.0001 5000 5 100\n",
      "f1_score 0.4431920649233544 0.0001 5000 5 500\n",
      "f1_score 0.4485688729874776 0.0001 5000 5 1000\n",
      "f1_score 0.4447368421052632 0.0001 5000 15 1\n",
      "f1_score 0.44527802294792584 0.0001 5000 15 50\n",
      "f1_score 0.44327639071397285 0.0001 5000 15 100\n",
      "f1_score 0.4436681222707423 0.0001 5000 15 500\n",
      "f1_score 0.4436665937431634 0.0001 5000 15 1000\n",
      "f1_score 0.44434725563087685 0.0001 5000 20 1\n",
      "f1_score 0.4437650141952391 0.0001 5000 20 50\n",
      "f1_score 0.4445416757821045 0.0001 5000 20 100\n",
      "f1_score 0.44694462828149123 0.0001 5000 20 500\n",
      "f1_score 0.44576982549149546 0.0001 5000 20 1000\n",
      "f1_score 0.4435712726478935 0.01 1 5 1\n",
      "f1_score 0.4435712726478935 0.01 1 5 50\n",
      "f1_score 0.4435712726478935 0.01 1 5 100\n"
     ]
    },
    {
     "name": "stdout",
     "output_type": "stream",
     "text": [
      "f1_score 0.5073588439925074 0.01 1 5 500\n",
      "f1_score 0.4944105691056911 0.01 1 5 1000\n",
      "f1_score 0.5097932535364527 0.01 1 15 1\n",
      "f1_score 0.4953105196451204 0.01 1 15 50\n",
      "f1_score 0.4996129032258064 0.01 1 15 100\n",
      "f1_score 0.5043432482232166 0.01 1 15 500\n",
      "f1_score 0.4435712726478935 0.01 1 15 1000\n",
      "f1_score 0.4962944032711474 0.01 1 20 1\n",
      "f1_score 0.4435712726478935 0.01 1 20 50\n",
      "f1_score 0.5114879649890591 0.01 1 20 100\n",
      "f1_score 0.4435712726478935 0.01 1 20 500\n",
      "f1_score 0.4435712726478935 0.01 1 20 1000\n",
      "f1_score 0.4984567901234568 0.01 50 5 1\n",
      "f1_score 0.4942849885699771 0.01 50 5 50\n",
      "f1_score 0.505795574288725 0.01 50 5 100\n",
      "f1_score 0.4786979415988511 0.01 50 5 500\n",
      "f1_score 0.45596558750283 0.01 50 5 1000\n",
      "f1_score 0.49781659388646277 0.01 50 15 1\n",
      "f1_score 0.4949341438703141 0.01 50 15 50\n",
      "f1_score 0.5123072761698674 0.01 50 15 100\n",
      "f1_score 0.5061530230069556 0.01 50 15 500\n",
      "f1_score 0.5113233287858118 0.01 50 15 1000\n",
      "f1_score 0.4366197183098592 0.01 50 20 1\n",
      "f1_score 0.4437636761487966 0.01 50 20 50\n",
      "f1_score 0.4435712726478935 0.01 50 20 100\n",
      "f1_score 0.4998688696564385 0.01 50 20 500\n",
      "f1_score 0.5149931224209079 0.01 50 20 1000\n",
      "f1_score 0.5031315240083507 0.01 100 5 1\n",
      "f1_score 0.49718093285494624 0.01 100 5 50\n",
      "f1_score 0.5166393889798145 0.01 100 5 100\n",
      "f1_score 0.5100671140939598 0.01 100 5 500\n",
      "f1_score 0.4442013129102844 0.01 100 5 1000\n",
      "f1_score 0.4931025833960371 0.01 100 15 1\n",
      "f1_score 0.4942675159235669 0.01 100 15 50\n",
      "f1_score 0.4435712726478935 0.01 100 15 100\n",
      "f1_score 0.4839024390243903 0.01 100 15 500\n",
      "f1_score 0.44342507645259943 0.01 100 15 1000\n",
      "f1_score 0.49298597194388777 0.01 100 20 1\n",
      "f1_score 0.5083829096809086 0.01 100 20 50\n",
      "f1_score 0.4933500627352572 0.01 100 20 100\n",
      "f1_score 0.486261040235525 0.01 100 20 500\n",
      "f1_score 0.6050179211469534 0.01 100 20 1000\n",
      "f1_score 0.4917541229385307 0.01 500 5 1\n",
      "f1_score 0.5069535554972449 0.01 500 5 50\n",
      "f1_score 0.35016674606955694 0.01 500 5 100\n",
      "f1_score 0.49706557795355955 0.01 500 5 500\n",
      "f1_score 0.4437650141952391 0.01 500 5 1000\n",
      "f1_score 0.4928409947249436 0.01 500 15 1\n",
      "f1_score 0.5165637282425604 0.01 500 15 50\n",
      "f1_score 0.47757633587786263 0.01 500 15 100\n",
      "f1_score 0.4974385245901639 0.01 500 15 500\n",
      "f1_score 0.45305848084248257 0.01 500 15 1000\n",
      "f1_score 0.44327868852459024 0.01 500 20 1\n",
      "f1_score 0.5074786324786326 0.01 500 20 50\n",
      "f1_score 0.4708089097303635 0.01 500 20 100\n",
      "f1_score 0.5035220453952518 0.01 500 20 500\n",
      "f1_score 0.48762190547636913 0.01 500 20 1000\n",
      "f1_score 0.3359110681488642 0.01 1000 5 1\n",
      "f1_score 0.4435712726478935 0.01 1000 5 50\n",
      "f1_score 0.4820388349514563 0.01 1000 5 100\n",
      "f1_score 0.314572864321608 0.01 1000 5 500\n",
      "f1_score 0.4455837800046609 0.01 1000 5 1000\n",
      "f1_score 0.5048594693984765 0.01 1000 15 1\n",
      "f1_score 0.5040480543222774 0.01 1000 15 50\n",
      "f1_score 0.5063559322033898 0.01 1000 15 100\n",
      "f1_score 0.31972454500737824 0.01 1000 15 500\n",
      "f1_score 0.410139301210322 0.01 1000 15 1000\n",
      "f1_score 0.4900793650793651 0.01 1000 20 1\n",
      "f1_score 0.48082951531227397 0.01 1000 20 50\n",
      "f1_score 0.442054433713784 0.01 1000 20 100\n",
      "f1_score 0.4435712726478935 0.01 1000 20 500\n",
      "f1_score 0.5382645803698435 0.01 1000 20 1000\n",
      "f1_score 0.5038329368226275 0.01 5000 5 1\n",
      "f1_score 0.4437650141952391 0.01 5000 5 50\n",
      "f1_score 0.4444931026932341 0.01 5000 5 100\n",
      "f1_score 0.48696507624200697 0.01 5000 5 500\n",
      "f1_score 0.4437650141952391 0.01 5000 5 1000\n",
      "f1_score 0.4435712726478935 0.01 5000 15 1\n",
      "f1_score 0.49495967741935487 0.01 5000 15 50\n",
      "f1_score 0.5926439972241498 0.01 5000 15 100\n",
      "f1_score 0.4821558630735615 0.01 5000 15 500\n",
      "f1_score 0.5007874015748031 0.01 5000 15 1000\n",
      "f1_score 0.4966580976863753 0.01 5000 20 1\n",
      "f1_score 0.4358748347289555 0.01 5000 20 50\n",
      "f1_score 0.4435712726478935 0.01 5000 20 100\n",
      "f1_score 0.6045824094604584 0.01 5000 20 500\n",
      "f1_score 0.4390779363336992 0.01 5000 20 1000\n",
      "f1_score 0.5517456359102244 0.05 1 5 1\n",
      "f1_score 0.1209647495361781 0.05 1 5 50\n",
      "f1_score 0.6268781302170285 0.05 1 5 100\n",
      "f1_score 0.06570155902004454 0.05 1 5 500\n",
      "f1_score 0.44933516735442447 0.05 1 5 1000\n",
      "f1_score 0.27870370370370373 0.05 1 15 1\n",
      "f1_score 0.013631937682570592 0.05 1 15 50\n",
      "f1_score 0.16651075771749296 0.05 1 15 100\n",
      "f1_score 0.6322049405306496 0.05 1 15 500\n",
      "f1_score 0.4481530930129061 0.05 1 15 1000\n",
      "f1_score 0.537987679671458 0.05 1 20 1\n",
      "f1_score 0.37138150152977173 0.05 1 20 50\n",
      "f1_score 0.3402727925340991 0.05 1 20 100\n",
      "f1_score 0.6171294485725459 0.05 1 20 500\n",
      "f1_score 0.19431279620853079 0.05 1 20 1000\n"
     ]
    },
    {
     "name": "stderr",
     "output_type": "stream",
     "text": [
      "C:\\Users\\Asia\\Anaconda3\\lib\\site-packages\\ipykernel_launcher.py:43: RuntimeWarning: overflow encountered in double_scalars\n",
      "C:\\Users\\Asia\\Anaconda3\\lib\\site-packages\\ipykernel_launcher.py:44: RuntimeWarning: overflow encountered in double_scalars\n",
      "C:\\Users\\Asia\\Anaconda3\\lib\\site-packages\\ipykernel_launcher.py:61: RuntimeWarning: overflow encountered in matmul\n",
      "C:\\Users\\Asia\\Anaconda3\\lib\\site-packages\\ipykernel_launcher.py:72: RuntimeWarning: invalid value encountered in subtract\n",
      "C:\\Users\\Asia\\Anaconda3\\lib\\site-packages\\ipykernel_launcher.py:61: RuntimeWarning: invalid value encountered in multiply\n",
      "C:\\Users\\Asia\\Anaconda3\\lib\\site-packages\\ipykernel_launcher.py:108: RuntimeWarning: invalid value encountered in greater\n"
     ]
    },
    {
     "name": "stdout",
     "output_type": "stream",
     "text": [
      "f1_score 0.0 0.05 50 5 1\n"
     ]
    },
    {
     "name": "stderr",
     "output_type": "stream",
     "text": [
      "C:\\Users\\Asia\\Anaconda3\\lib\\site-packages\\ipykernel_launcher.py:61: RuntimeWarning: invalid value encountered in matmul\n",
      "C:\\Users\\Asia\\Anaconda3\\lib\\site-packages\\ipykernel_launcher.py:43: RuntimeWarning: invalid value encountered in matmul\n"
     ]
    },
    {
     "name": "stdout",
     "output_type": "stream",
     "text": [
      "f1_score 0.0 0.05 50 5 50\n",
      "f1_score 0.0 0.05 50 5 100\n",
      "f1_score 0.0 0.05 50 5 500\n",
      "f1_score 0.0 0.05 50 5 1000\n",
      "f1_score 0.0 0.05 50 15 1\n",
      "f1_score 0.0 0.05 50 15 50\n",
      "f1_score 0.0 0.05 50 15 100\n",
      "f1_score 0.0 0.05 50 15 500\n",
      "f1_score 0.0 0.05 50 15 1000\n",
      "f1_score 0.0 0.05 50 20 1\n",
      "f1_score 0.0 0.05 50 20 50\n"
     ]
    },
    {
     "name": "stderr",
     "output_type": "stream",
     "text": [
      "C:\\Users\\Asia\\Anaconda3\\lib\\site-packages\\ipykernel_launcher.py:61: RuntimeWarning: overflow encountered in add\n"
     ]
    },
    {
     "name": "stdout",
     "output_type": "stream",
     "text": [
      "f1_score 0.0 0.05 50 20 100\n",
      "f1_score 0.0 0.05 50 20 500\n",
      "f1_score 0.0 0.05 50 20 1000\n",
      "f1_score 0.0 0.05 100 5 1\n",
      "f1_score 0.0 0.05 100 5 50\n",
      "f1_score 0.0 0.05 100 5 100\n",
      "f1_score 0.0 0.05 100 5 500\n",
      "f1_score 0.0 0.05 100 5 1000\n",
      "f1_score 0.0 0.05 100 15 1\n",
      "f1_score 0.0 0.05 100 15 50\n",
      "f1_score 0.0 0.05 100 15 100\n",
      "f1_score 0.0 0.05 100 15 500\n",
      "f1_score 0.0 0.05 100 15 1000\n",
      "f1_score 0.0 0.05 100 20 1\n",
      "f1_score 0.0 0.05 100 20 50\n",
      "f1_score 0.0 0.05 100 20 100\n",
      "f1_score 0.0 0.05 100 20 500\n",
      "f1_score 0.0 0.05 100 20 1000\n",
      "f1_score 0.0 0.05 500 5 1\n",
      "f1_score 0.0 0.05 500 5 50\n",
      "f1_score 0.0 0.05 500 5 100\n",
      "f1_score 0.0 0.05 500 5 500\n",
      "f1_score 0.0 0.05 500 5 1000\n",
      "f1_score 0.0 0.05 500 15 1\n",
      "f1_score 0.0 0.05 500 15 50\n"
     ]
    },
    {
     "name": "stderr",
     "output_type": "stream",
     "text": [
      "C:\\Users\\Asia\\Anaconda3\\lib\\site-packages\\ipykernel_launcher.py:43: RuntimeWarning: overflow encountered in matmul\n"
     ]
    },
    {
     "name": "stdout",
     "output_type": "stream",
     "text": [
      "f1_score 0.0 0.05 500 15 100\n",
      "f1_score 0.0 0.05 500 15 500\n",
      "f1_score 0.0 0.05 500 15 1000\n",
      "f1_score 0.0 0.05 500 20 1\n",
      "f1_score 0.0 0.05 500 20 50\n",
      "f1_score 0.0 0.05 500 20 100\n",
      "f1_score 0.0 0.05 500 20 500\n",
      "f1_score 0.0 0.05 500 20 1000\n",
      "f1_score 0.0 0.05 1000 5 1\n",
      "f1_score 0.0 0.05 1000 5 50\n",
      "f1_score 0.0 0.05 1000 5 100\n",
      "f1_score 0.0 0.05 1000 5 500\n",
      "f1_score 0.0 0.05 1000 5 1000\n",
      "f1_score 0.0 0.05 1000 15 1\n",
      "f1_score 0.0 0.05 1000 15 50\n",
      "f1_score 0.0 0.05 1000 15 100\n",
      "f1_score 0.0 0.05 1000 15 500\n",
      "f1_score 0.0 0.05 1000 15 1000\n",
      "f1_score 0.0 0.05 1000 20 1\n",
      "f1_score 0.0 0.05 1000 20 50\n",
      "f1_score 0.0 0.05 1000 20 100\n",
      "f1_score 0.0 0.05 1000 20 500\n",
      "f1_score 0.0 0.05 1000 20 1000\n",
      "f1_score 0.0 0.05 5000 5 1\n",
      "f1_score 0.0 0.05 5000 5 50\n",
      "f1_score 0.0 0.05 5000 5 100\n",
      "f1_score 0.0 0.05 5000 5 500\n",
      "f1_score 0.0 0.05 5000 5 1000\n",
      "f1_score 0.0 0.05 5000 15 1\n",
      "f1_score 0.0 0.05 5000 15 50\n",
      "f1_score 0.0 0.05 5000 15 100\n",
      "f1_score 0.0 0.05 5000 15 500\n",
      "f1_score 0.0 0.05 5000 15 1000\n",
      "f1_score 0.0 0.05 5000 20 1\n",
      "f1_score 0.0 0.05 5000 20 50\n",
      "f1_score 0.0 0.05 5000 20 100\n",
      "f1_score 0.0 0.05 5000 20 500\n",
      "f1_score 0.0 0.05 5000 20 1000\n"
     ]
    }
   ],
   "source": [
    "al=[0.00001, 0.0001, 0.01, 0.05]\n",
    "Cs=[1, 50, 100, 500, 1000, 5000]\n",
    "epoch=[5, 15, 20]\n",
    "batchs=[1, 50, 100, 500, 1000]\n",
    "features_lin = []\n",
    "for a in al:\n",
    "    for cs in Cs:\n",
    "        for ep in epoch:\n",
    "            for batch in batchs:\n",
    "                myclf = MySGDClassifier(batch_generator, alpha=a, C=cs, max_epoch=ep, model_type='lin_reg', batch_size=batch)\n",
    "                myclf.fit(x_train1, y_train1)\n",
    "                features_lin.append((f1_score(y_test1, myclf.predict(x_test1)), a, cs, ep, batch))\n",
    "                print(\"f1_score\",f1_score(y_test1, myclf.predict(x_test1)), a, cs, ep, batch)"
   ]
  },
  {
   "cell_type": "markdown",
   "metadata": {
    "collapsed": true
   },
   "source": [
    "Подберите порог линейной модели, по достижении которого, Вы будете относить объект к классу 1. Вспомните, какую метрику мы оптимизируем в соревновании.  Как тогда правильно подобрать порог?"
   ]
  },
  {
   "cell_type": "markdown",
   "metadata": {},
   "source": [
    "Кросс-валидацией по f1-score (но в kaggle что-то хуже сработало, выбрав, лучшее значение \\approx 0.6)"
   ]
  },
  {
   "cell_type": "code",
   "execution_count": 28,
   "metadata": {},
   "outputs": [],
   "source": [
    "from sklearn.model_selection import KFold"
   ]
  },
  {
   "cell_type": "code",
   "execution_count": 110,
   "metadata": {},
   "outputs": [
    {
     "name": "stdout",
     "output_type": "stream",
     "text": [
      "0.45\n"
     ]
    },
    {
     "name": "stderr",
     "output_type": "stream",
     "text": [
      "C:\\Users\\Asia\\Anaconda3\\lib\\site-packages\\ipykernel_launcher.py:47: RuntimeWarning: divide by zero encountered in log\n",
      "C:\\Users\\Asia\\Anaconda3\\lib\\site-packages\\ipykernel_launcher.py:47: RuntimeWarning: invalid value encountered in multiply\n"
     ]
    },
    {
     "name": "stdout",
     "output_type": "stream",
     "text": [
      "0.6079703979848047\n",
      "0.4578947368421053\n",
      "0.6046599386827997\n",
      "0.46578947368421053\n",
      "0.6099099609011158\n",
      "0.4736842105263158\n",
      "0.6074230722913143\n",
      "0.48157894736842105\n",
      "0.6131901498546642\n",
      "0.48947368421052634\n",
      "0.609574365813482\n",
      "0.49736842105263157\n",
      "0.6065837681999252\n",
      "0.5052631578947369\n",
      "0.6121409548453786\n",
      "0.5131578947368421\n",
      "0.6073204176156314\n",
      "0.5210526315789473\n",
      "0.6168278500829347\n",
      "0.5289473684210526\n",
      "0.6106781617370199\n",
      "0.5368421052631579\n",
      "0.6101719023448584\n",
      "0.5447368421052632\n",
      "0.6108656231068698\n",
      "0.5526315789473684\n",
      "0.6152721287053081\n",
      "0.5605263157894737\n",
      "0.6104230447843255\n",
      "0.5684210526315789\n",
      "0.6089124300872069\n",
      "0.5763157894736842\n",
      "0.6135363829213049\n",
      "0.5842105263157895\n",
      "0.6149679209668246\n",
      "0.5921052631578947\n",
      "0.6122943797478071\n",
      "0.6\n",
      "0.615003731149415\n"
     ]
    }
   ],
   "source": [
    "kf = KFold(n_splits=3, random_state=None, shuffle=False)\n",
    "t = np.linspace(0.45, 0.6, 20)\n",
    "X = x_train\n",
    "y = y_train\n",
    "f1score = []\n",
    "for tt in t:\n",
    "    print(tt)\n",
    "    f1 = 0\n",
    "    for train_index, test_index in kf.split(X):\n",
    "        X_train, X_test = X[train_index], X[test_index]\n",
    "        y_tr, y_test = y[train_index], y[test_index]\n",
    "        myclf = MySGDClassifier(batch_generator, alpha=0.0001, C=5000, max_epoch=5, model_type='log_reg', batch_size=500)\n",
    "        myclf.fit(X_train, y_tr)\n",
    "        f1 += f1_score(y_test, myclf.predict_t(X_test, tt))\n",
    "    print(f1/3)\n",
    "    f1score.append(f1/3)\n",
    "    "
   ]
  },
  {
   "cell_type": "markdown",
   "metadata": {},
   "source": [
    "С лучшими параметрами на валидации сделайте предсказание на тестовом множестве, отправьте его на проверку на платформу kaggle. Убедитесь, что Вы смогли побить public score первого бейзлайна. Если да, то Вы молодец!"
   ]
  },
  {
   "cell_type": "code",
   "execution_count": 49,
   "metadata": {},
   "outputs": [],
   "source": [
    "x_test = StandardScaler().fit_transform(X_test)\n",
    "x_train = StandardScaler().fit_transform(X_train)\n",
    "print(x_test.shape, x_train.shape)"
   ]
  },
  {
   "cell_type": "code",
   "execution_count": 51,
   "metadata": {},
   "outputs": [
    {
     "name": "stderr",
     "output_type": "stream",
     "text": [
      "C:\\Users\\Asia\\Anaconda3\\lib\\site-packages\\ipykernel_launcher.py:45: RuntimeWarning: divide by zero encountered in log\n",
      "C:\\Users\\Asia\\Anaconda3\\lib\\site-packages\\ipykernel_launcher.py:45: RuntimeWarning: invalid value encountered in multiply\n"
     ]
    }
   ],
   "source": [
    "file = open(\"out1.csv\", \"w\")\n",
    "file.write(str(\"pair_id,target\\n\"))\n",
    "myclf = MySGDClassifier(batch_generator, alpha=0.0001, C=100, max_epoch=5, model_type='log_reg', batch_size=1000)\n",
    "myclf.fit(x_train1, y_train1)\n",
    "res = myclf.predict(x_test).flatten()\n",
    "for k, pair_id in enumerate(pair_ids):\n",
    "    file.write(str(pair_id) + \",\" + str(res[k]) + str(\"\\n\"))\n",
    "file.close()"
   ]
  },
  {
   "cell_type": "markdown",
   "metadata": {},
   "source": [
    "# Фидбек (бесценно)"
   ]
  },
  {
   "cell_type": "markdown",
   "metadata": {},
   "source": [
    "* Какие аспекты обучения линейных моделей Вам показались непонятными? Какое место стоит дополнительно объяснить?"
   ]
  },
  {
   "cell_type": "markdown",
   "metadata": {},
   "source": [
    "Не совсем поняла, как лучше строить валидационную выборку (на моей, кажется, переобучилось все)."
   ]
  },
  {
   "cell_type": "markdown",
   "metadata": {},
   "source": [
    "* Здесь Вы можете оставить отзыв о этой домашней работе или о всем курсе.   "
   ]
  },
  {
   "cell_type": "markdown",
   "metadata": {},
   "source": [
    "*** ВАШ ОТЗЫВ ЗДЕСЬ***"
   ]
  },
  {
   "cell_type": "code",
   "execution_count": null,
   "metadata": {
    "collapsed": true
   },
   "outputs": [],
   "source": []
  },
  {
   "cell_type": "code",
   "execution_count": null,
   "metadata": {
    "collapsed": true
   },
   "outputs": [],
   "source": []
  }
 ],
 "metadata": {
  "anaconda-cloud": {},
  "kernelspec": {
   "display_name": "Python 3",
   "language": "python",
   "name": "python3"
  },
  "language_info": {
   "codemirror_mode": {
    "name": "ipython",
    "version": 3
   },
   "file_extension": ".py",
   "mimetype": "text/x-python",
   "name": "python",
   "nbconvert_exporter": "python",
   "pygments_lexer": "ipython3",
   "version": "3.7.3"
  },
  "nav_menu": {},
  "toc": {
   "colors": {
    "hover_highlight": "#DAA520",
    "navigate_num": "#000000",
    "navigate_text": "#333333",
    "running_highlight": "#FF0000",
    "selected_highlight": "#FFD700",
    "sidebar_border": "#EEEEEE",
    "wrapper_background": "#FFFFFF"
   },
   "moveMenuLeft": true,
   "nav_menu": {
    "height": "402px",
    "width": "253px"
   },
   "navigate_menu": true,
   "number_sections": false,
   "sideBar": true,
   "threshold": 4,
   "toc_cell": false,
   "toc_section_display": "block",
   "toc_window_display": true,
   "widenNotebook": false
  }
 },
 "nbformat": 4,
 "nbformat_minor": 2
}
